{
 "cells": [
  {
   "cell_type": "markdown",
   "id": "a9e19140-f983-4e65-9484-e6424ef312fe",
   "metadata": {},
   "source": [
    "#### ASSIGNMENT"
   ]
  },
  {
   "cell_type": "code",
   "execution_count": 2,
   "id": "52da6871-7cab-4c45-af45-7cdbb91f4599",
   "metadata": {},
   "outputs": [],
   "source": [
    "# 1)What is the types of application ?"
   ]
  },
  {
   "cell_type": "code",
   "execution_count": 25,
   "id": "7cf8fe4b-3c97-447b-9c8d-199dbe006973",
   "metadata": {},
   "outputs": [],
   "source": [
    "# answer \n",
    "# Python has a number of applications, including web development, data science and analytics, scientific computing, \n",
    "# machine learning, artificial intelligence, game development, and more."
   ]
  },
  {
   "cell_type": "code",
   "execution_count": 27,
   "id": "62da5727-23e0-4381-9c93-1c9b703391e4",
   "metadata": {},
   "outputs": [],
   "source": [
    "# 2) What is programing ?"
   ]
  },
  {
   "cell_type": "code",
   "execution_count": 29,
   "id": "2a06c7f6-b0c3-4be6-bcb4-7cb9a1b1f905",
   "metadata": {},
   "outputs": [],
   "source": [
    "# (answer) \n",
    "# Programming refers to a technological process for telling a computer which tasks to perform in order to solve problems.\n",
    "# You can think of programming as a collaboration between humans and computers, in which humans create instructions\n",
    "# for a computer to follow (code) in a language computers can understand."
   ]
  },
  {
   "cell_type": "code",
   "execution_count": 31,
   "id": "fb5db3c8-ffbe-4c69-ae59-ddf1431a2bf5",
   "metadata": {},
   "outputs": [],
   "source": [
    "# 3) what is python ?"
   ]
  },
  {
   "cell_type": "code",
   "execution_count": 33,
   "id": "851deb2f-8862-4c81-aa59-965bb4c55832",
   "metadata": {},
   "outputs": [],
   "source": [
    "# (answer) \n",
    "# Python is a computer programming language often used to build websites and software, automate tasks, and analyze data.\n",
    "# Python is a general-purpose language, not specialized for any specific problems, and used to create various programmes."
   ]
  },
  {
   "cell_type": "code",
   "execution_count": 18,
   "id": "c4d008e8-cce1-4250-856a-22e5c06e93dd",
   "metadata": {},
   "outputs": [],
   "source": [
    "# 4) Write a python program to check if a number is positive, negative or zero"
   ]
  },
  {
   "cell_type": "code",
   "execution_count": 4,
   "id": "87069dc3-93d4-4f94-969c-1af8cee1af2b",
   "metadata": {},
   "outputs": [
    {
     "name": "stdin",
     "output_type": "stream",
     "text": [
      "enter the number 8\n"
     ]
    },
    {
     "name": "stdout",
     "output_type": "stream",
     "text": [
      "positive number\n"
     ]
    }
   ],
   "source": [
    "number=int(input(\"enter the number\"))\n",
    "if number > 0:\n",
    "    print(\"positive number\")\n",
    "elif number == 0:\n",
    "    print(\"zero number\")\n",
    "else:\n",
    "    print(\"nagative number\")\n",
    "    \n"
   ]
  },
  {
   "cell_type": "code",
   "execution_count": 1,
   "id": "0a10788b-e027-48d0-8844-389b4c37898b",
   "metadata": {},
   "outputs": [],
   "source": [
    "# 5) Write a python program to get the factorial number of given numbers"
   ]
  },
  {
   "cell_type": "code",
   "execution_count": 8,
   "id": "50462b4b-f4e0-438e-a413-df0bc7c90f90",
   "metadata": {},
   "outputs": [
    {
     "name": "stdin",
     "output_type": "stream",
     "text": [
      "enter the number 5\n"
     ]
    },
    {
     "name": "stdout",
     "output_type": "stream",
     "text": [
      " the factorial of  5 is 120\n"
     ]
    }
   ],
   "source": [
    "num = int(input(\"enter the number\"))    # solution 1 using while loop\n",
    "fact = 1\n",
    "a = 1\n",
    "while a <= num:\n",
    "    fact = fact*a\n",
    "    a=a+1\n",
    "print(\" the factorial of \",num,\"is\",fact)\n",
    "    "
   ]
  },
  {
   "cell_type": "code",
   "execution_count": 21,
   "id": "ecc2e989-fc9f-4362-b410-7f1300335652",
   "metadata": {},
   "outputs": [
    {
     "name": "stdin",
     "output_type": "stream",
     "text": [
      "enter the number 5\n"
     ]
    },
    {
     "name": "stdout",
     "output_type": "stream",
     "text": [
      "the factorial of given number 120\n"
     ]
    }
   ],
   "source": [
    "num = int(input(\"enter the number\"))      # solution 2 using for loop\n",
    "fact = 1\n",
    "if num < 0:\n",
    "    print(\"factorial number of 0 does not exist\")\n",
    "if num ==0:\n",
    "    print(\"factorial of 0 is\",1)\n",
    "if num >0:\n",
    "    for m in range (1,num+1):\n",
    "        fact=fact*m\n",
    "    print(\"the factorial of given number\",fact)"
   ]
  },
  {
   "cell_type": "code",
   "execution_count": 19,
   "id": "5996db42-0b10-4c20-aa42-95387b91f7c9",
   "metadata": {},
   "outputs": [
    {
     "name": "stdin",
     "output_type": "stream",
     "text": [
      "enter a number here 5\n"
     ]
    },
    {
     "name": "stdout",
     "output_type": "stream",
     "text": [
      "the factorial of the given numbre 120\n"
     ]
    }
   ],
   "source": [
    "def fact(a):    # solution 3 using recursion\n",
    "    if a == 0:\n",
    "        return 1\n",
    "    else:\n",
    "        return ((a)*fact(a-1))\n",
    "num = int(input(\"enter a number here\"))\n",
    "result = fact(num)\n",
    "print(\"the factorial of the given numbre\",result)"
   ]
  },
  {
   "cell_type": "code",
   "execution_count": 14,
   "id": "8dc07935-2be6-429b-a788-ededf9dc4051",
   "metadata": {},
   "outputs": [],
   "source": [
    "# 6) Write a python program to get the Fibonacci series of given range"
   ]
  },
  {
   "cell_type": "code",
   "execution_count": 5,
   "id": "8566e4e1-074a-456d-8edf-8aea32eacc7b",
   "metadata": {},
   "outputs": [
    {
     "name": "stdin",
     "output_type": "stream",
     "text": [
      "enter the number : 7\n"
     ]
    },
    {
     "name": "stdout",
     "output_type": "stream",
     "text": [
      "0\n",
      "1\n",
      "1\n",
      "2\n",
      "3\n",
      "5\n",
      "8\n",
      "13\n",
      "21\n"
     ]
    }
   ],
   "source": [
    "a = 0\n",
    "b = 1\n",
    "num = int(input(\"enter the number :\"))\n",
    "\n",
    "if num == 1:\n",
    "    print(a)\n",
    "else:\n",
    "    print(a)\n",
    "    print(b)\n",
    "    for i in range (1,num +1):\n",
    "        c = a+b\n",
    "        a = b\n",
    "        b = c\n",
    "        print(c)"
   ]
  },
  {
   "cell_type": "code",
   "execution_count": 5,
   "id": "42cba3a0-513b-454d-bc51-912c51220a4f",
   "metadata": {},
   "outputs": [
    {
     "name": "stdin",
     "output_type": "stream",
     "text": [
      "Enter the upper limit for the Fibonacci series:  10\n"
     ]
    },
    {
     "name": "stdout",
     "output_type": "stream",
     "text": [
      "Fibonacci series up to 10 : [0, 1, 1, 2, 3, 5, 8]\n"
     ]
    }
   ],
   "source": [
    "def fibonacci_series(n):\n",
    "    fib_series = []\n",
    "    a, b = 0, 1\n",
    "    \n",
    "    while a <= n:\n",
    "        fib_series.append(a)\n",
    "        a, b = b, a + b  \n",
    "    \n",
    "    return fib_series\n",
    "\n",
    "try:\n",
    "    range_limit = int(input(\"Enter the upper limit for the Fibonacci series: \"))\n",
    "    if range_limit < 0:\n",
    "        print(\"Please enter a non-negative integer.\")\n",
    "    else:\n",
    "        fib_series = fibonacci_series(range_limit)\n",
    "        print(\"Fibonacci series up to\", range_limit, \":\", fib_series)\n",
    "except ValueError:\n",
    "    print(\"Invalid input! Please enter a valid integer.\")\n"
   ]
  },
  {
   "cell_type": "code",
   "execution_count": 11,
   "id": "387c152e-a35b-462e-809d-a276d0858087",
   "metadata": {},
   "outputs": [],
   "source": [
    "# 7) how memory is managed in python ?"
   ]
  },
  {
   "cell_type": "code",
   "execution_count": 13,
   "id": "f4223a8a-96db-4165-aad5-116c8a135e7b",
   "metadata": {},
   "outputs": [],
   "source": [
    "# (answer)\n",
    "# You can classify memory management in Python in one of two ways: dynamic allocation or static allocation. \n",
    "# Dynamic allocation occurs as the program is running. This means that as the program operates, \n",
    "# it can dynamically determine where to allocate memory while reusing and releasing it.\n"
   ]
  },
  {
   "cell_type": "code",
   "execution_count": 15,
   "id": "b5bd7a25-bcb7-4a36-85a3-ab32e6275cca",
   "metadata": {},
   "outputs": [],
   "source": [
    "# 8) what is the purpose continuing statement in python ?"
   ]
  },
  {
   "cell_type": "code",
   "execution_count": 19,
   "id": "2452655e-ee47-41e8-abf9-03d44bea5af0",
   "metadata": {},
   "outputs": [],
   "source": [
    "# (answer)\n",
    "# continuing : The continue statement in Python is used to skip the remaining code inside a loop for the current iteration only.\n",
    "# Pass: The pass statement in Python is used when a statement or a condition is required to be present in the program, \n",
    "# but we don't want any command or code to execute."
   ]
  },
  {
   "cell_type": "code",
   "execution_count": 21,
   "id": "d5d560f5-be06-4d78-8f64-349218d3f892",
   "metadata": {},
   "outputs": [],
   "source": [
    "# 9) write python program that swap two number with temp variable and without temp variable."
   ]
  },
  {
   "cell_type": "code",
   "execution_count": 3,
   "id": "6722a99d-992a-4e00-96e5-6c071007272b",
   "metadata": {},
   "outputs": [
    {
     "name": "stdout",
     "output_type": "stream",
     "text": [
      "12\n",
      "13\n"
     ]
    }
   ],
   "source": [
    "x = 13     # 1st solution\n",
    "y = 12\n",
    "temp = 13\n",
    "x = y\n",
    "y = temp\n",
    "print(x)\n",
    "print(y)"
   ]
  },
  {
   "cell_type": "code",
   "execution_count": 7,
   "id": "bc280ab9-2d21-4450-be23-bcf40b2aa32b",
   "metadata": {},
   "outputs": [
    {
     "name": "stdout",
     "output_type": "stream",
     "text": [
      "the value of x is 13\n",
      "the value of y is 12\n"
     ]
    }
   ],
   "source": [
    "x = 12        # 2nd solution\n",
    "y = 13\n",
    "x,y = y,x\n",
    "print(\"the value of x is\",x)\n",
    "print(\"the value of y is\",y)"
   ]
  },
  {
   "cell_type": "code",
   "execution_count": 23,
   "id": "90a6297e-e65a-42f8-8d8a-6e6f527fc33e",
   "metadata": {},
   "outputs": [],
   "source": [
    "# 10) write a python program to find whether a given number is even or odd, print out an appropriate message to the user."
   ]
  },
  {
   "cell_type": "code",
   "execution_count": 17,
   "id": "9b05defb-a51d-4f2f-80ba-b2e64bf9471c",
   "metadata": {},
   "outputs": [
    {
     "name": "stdin",
     "output_type": "stream",
     "text": [
      "enter the number 4\n"
     ]
    },
    {
     "name": "stdout",
     "output_type": "stream",
     "text": [
      "it is the even number\n"
     ]
    }
   ],
   "source": [
    "num = int(input(\"enter the number\"))\n",
    "if num % 2 ==0:\n",
    "    print(\"it is the even number\")\n",
    "else:\n",
    "    print(\"it is odd number\")"
   ]
  },
  {
   "cell_type": "code",
   "execution_count": 25,
   "id": "d7ab2a4b-3a97-4b67-a410-48f67d70fb7b",
   "metadata": {},
   "outputs": [],
   "source": [
    "# 11) write a python program to test whether a passed letter is a vowel or not."
   ]
  },
  {
   "cell_type": "code",
   "execution_count": 19,
   "id": "3e0aaf0e-6396-4155-abe7-f0fe43f16dba",
   "metadata": {},
   "outputs": [
    {
     "name": "stdin",
     "output_type": "stream",
     "text": [
      "enter the santence munib\n"
     ]
    },
    {
     "name": "stdout",
     "output_type": "stream",
     "text": [
      "u\n",
      "i\n",
      "number of vowel :  2\n"
     ]
    }
   ],
   "source": [
    "x = input(\"enter the santence\")\n",
    "count = 0\n",
    "for i in x:\n",
    "    if i == 'a' or i == 'e' or i == 'i' or i == 'o' or i == 'u':\n",
    "        print(i)\n",
    "        count = count + 1\n",
    "if count == 0:\n",
    "    print (\"no vowel found\")\n",
    "else :\n",
    "    print(\"number of vowel : \",count)"
   ]
  },
  {
   "cell_type": "code",
   "execution_count": 1,
   "id": "17b17bdb-0bc7-4f8b-8877-6a1f5c01e3cb",
   "metadata": {},
   "outputs": [],
   "source": [
    "# 12) write a python program to sum of three given integers. however, if two values are equal sum will be zero."
   ]
  },
  {
   "cell_type": "code",
   "execution_count": 21,
   "id": "439e9157-6032-4862-bdd8-710f2c562215",
   "metadata": {},
   "outputs": [
    {
     "name": "stdin",
     "output_type": "stream",
     "text": [
      "enter the number : 20\n",
      "enter the number : 20\n",
      "enter the number : 10\n"
     ]
    },
    {
     "name": "stdout",
     "output_type": "stream",
     "text": [
      "0\n"
     ]
    }
   ],
   "source": [
    "a = int(input(\"enter the number :\"))\n",
    "b = int(input(\"enter the number :\"))\n",
    "c = int(input(\"enter the number :\"))\n",
    "\n",
    "if a == b or b == c or c == b:\n",
    "    print (0)\n",
    "else:\n",
    "    print (\"sum of given numbre :\",a+b+c)\n",
    "\n",
    " "
   ]
  },
  {
   "cell_type": "code",
   "execution_count": 3,
   "id": "f1fd39bf-d19a-4d3c-8d1c-5b283b1f7f4b",
   "metadata": {},
   "outputs": [],
   "source": [
    "# 13) write python program that will return true if the two given integer values are equal or their sum of difference is 5."
   ]
  },
  {
   "cell_type": "code",
   "execution_count": 27,
   "id": "700a18f5-e621-4c57-94f9-893d2c6bfeb1",
   "metadata": {},
   "outputs": [
    {
     "name": "stdin",
     "output_type": "stream",
     "text": [
      "enter number 7\n",
      "enter number -2\n"
     ]
    },
    {
     "name": "stdout",
     "output_type": "stream",
     "text": [
      "true\n",
      "True\n"
     ]
    }
   ],
   "source": [
    "a = int(input(\"enter number\"))\n",
    "b = int(input(\"enter number\"))\n",
    "if a==b or a+b == 5 or a-b == 5:\n",
    "    print (\"true\")\n",
    "else:\n",
    "    print(\"false\")\n",
    "print (a==b or a+b == 5 or a-b == 5)"
   ]
  },
  {
   "cell_type": "code",
   "execution_count": 5,
   "id": "f2b90f59-62cf-437b-8af2-08ab0b8caac9",
   "metadata": {},
   "outputs": [],
   "source": [
    "# 14) write a python program to sum of the first n positive integers."
   ]
  },
  {
   "cell_type": "code",
   "execution_count": 41,
   "id": "ad536bec-02ad-4416-8c0a-d54624bf3930",
   "metadata": {},
   "outputs": [
    {
     "name": "stdin",
     "output_type": "stream",
     "text": [
      "enter the number 10\n"
     ]
    },
    {
     "name": "stdout",
     "output_type": "stream",
     "text": [
      "sum of 55\n"
     ]
    }
   ],
   "source": [
    "n = int(input(\"enter the number\"))     # for example : 1+2+3+4+5=15\n",
    "sum = (n*(n+1)) //2\n",
    "print (\"sum of\",sum)"
   ]
  },
  {
   "cell_type": "code",
   "execution_count": 7,
   "id": "9109da1e-7147-43a1-822b-19b9f20b90ca",
   "metadata": {},
   "outputs": [],
   "source": [
    "# 15) write a python program to calculate the length of a string."
   ]
  },
  {
   "cell_type": "code",
   "execution_count": 45,
   "id": "d1399afb-e5f8-4011-b723-c77d1254b981",
   "metadata": {},
   "outputs": [
    {
     "name": "stdin",
     "output_type": "stream",
     "text": [
      "enter the string : muslim sheikh\n"
     ]
    },
    {
     "name": "stdout",
     "output_type": "stream",
     "text": [
      "length of string is : 13\n"
     ]
    }
   ],
   "source": [
    "m = input(\"enter the string :\")\n",
    "length = 0\n",
    "for _ in m:\n",
    "    length += 1\n",
    "print (\"length of string is :\",length)"
   ]
  },
  {
   "cell_type": "code",
   "execution_count": 9,
   "id": "e3f9443f-89cf-47f3-8563-1571f84609db",
   "metadata": {},
   "outputs": [],
   "source": [
    "# 16) write a python program to count the number of characters (characters frequency) in a string"
   ]
  },
  {
   "cell_type": "code",
   "execution_count": 57,
   "id": "be989660-fa91-4e36-bd8a-be05eac33fc1",
   "metadata": {},
   "outputs": [
    {
     "name": "stdin",
     "output_type": "stream",
     "text": [
      "enter a string : muslim\n"
     ]
    },
    {
     "name": "stdout",
     "output_type": "stream",
     "text": [
      "count frequency is ....\n",
      "m occurs 1 times\n"
     ]
    }
   ],
   "source": [
    "my_string = input(\"enter a string :\")\n",
    "count = {}\n",
    "\n",
    "for letter in my_string:\n",
    "    if letter in count:\n",
    "        count[letter]+= 1\n",
    "else:\n",
    "    count[letter]=1\n",
    "\n",
    "print(\"count frequency is ....\")\n",
    "for key,value in count.items():\n",
    "    print(f\"{key} occurs {value} times\")"
   ]
  },
  {
   "cell_type": "code",
   "execution_count": 11,
   "id": "ee53d94d-0839-4fc8-aa61-0d6d4fbeecc3",
   "metadata": {},
   "outputs": [],
   "source": [
    "# 17) what are negative indexes and why are they used ? "
   ]
  },
  {
   "cell_type": "code",
   "execution_count": 21,
   "id": "0288826b-e0ef-48a0-8a49-f2b0c495fa4c",
   "metadata": {},
   "outputs": [],
   "source": [
    "# answer\n",
    "# Negative indexing allows you to access elements of a sequence from the end, using negative numbers as indexes. \n",
    "# This can be useful for getting the last few elements of a sequence, reversing a sequence, or performing other operations that require accessing\n",
    "# elements from the end."
   ]
  },
  {
   "cell_type": "code",
   "execution_count": 13,
   "id": "50772f3e-e3b3-488d-ba60-2f06e660bb52",
   "metadata": {},
   "outputs": [],
   "source": [
    "# 18) write a python program to count occurrences of a substring in a string."
   ]
  },
  {
   "cell_type": "code",
   "execution_count": 65,
   "id": "47ef60ed-9c4b-4cb1-8d98-474a64839368",
   "metadata": {},
   "outputs": [
    {
     "name": "stdin",
     "output_type": "stream",
     "text": [
      "enter a string : write a python program to count occurrences of a substring in a string.\n",
      "enter a substring : string\n"
     ]
    },
    {
     "name": "stdout",
     "output_type": "stream",
     "text": [
      "substring occurs 2 time\n"
     ]
    }
   ],
   "source": [
    "my_string = input(\"enter a string :\")\n",
    "my_substring = input(\"enter a substring :\")\n",
    "\n",
    "my_count = my_string.count(my_substring)\n",
    "\n",
    "print(\"substring occurs %d time\" % my_count)"
   ]
  },
  {
   "cell_type": "code",
   "execution_count": 15,
   "id": "1045d309-b6eb-4fdf-8914-c636a5a9e31f",
   "metadata": {},
   "outputs": [],
   "source": [
    "# 19) write a python program to count the occurrences of each word in a"
   ]
  },
  {
   "cell_type": "code",
   "execution_count": 71,
   "id": "511080bc-61e9-4df3-8da2-37ac27d67a64",
   "metadata": {},
   "outputs": [
    {
     "name": "stdin",
     "output_type": "stream",
     "text": [
      "enter a string : write a python program to count the occurrences of each word in a\n",
      "enter a character : a\n"
     ]
    },
    {
     "name": "stdout",
     "output_type": "stream",
     "text": [
      "the number of the occurrences of each word : 4\n"
     ]
    }
   ],
   "source": [
    "text = input(\"enter a string :\")\n",
    "char = input(\"enter a character :\")\n",
    "count = 0\n",
    "\n",
    "for letter in text:\n",
    "    if char == letter:\n",
    "        count = count + 1\n",
    "        \n",
    "print (\"the number of the occurrences of each word :\",count)"
   ]
  },
  {
   "cell_type": "code",
   "execution_count": 17,
   "id": "dea7caf3-74ee-4655-8da5-27faeb586f7e",
   "metadata": {},
   "outputs": [],
   "source": [
    "# 20) write a python program to get a single string from two given strings, separated by a space and swap the first two characters of each string."
   ]
  },
  {
   "cell_type": "code",
   "execution_count": 79,
   "id": "410bbf40-a93c-4745-8dc6-4eb83c65b90e",
   "metadata": {},
   "outputs": [
    {
     "name": "stdin",
     "output_type": "stream",
     "text": [
      "enter first string muslim\n",
      "enter second string sheikh\n"
     ]
    },
    {
     "name": "stdout",
     "output_type": "stream",
     "text": [
      "output string is :shslim , mueikh\n"
     ]
    }
   ],
   "source": [
    "first = input(\"enter first string\")                   # for example \"first\" and \"second\"\n",
    "second = input(\"enter second string\")                 # output \"serst\" and \"ficond\"\n",
    "\n",
    "output_string = second[:2] + first [2:] + \" , \" + first [:2] + second [2:]\n",
    "\n",
    "print (f\"output string is :{output_string}\")"
   ]
  },
  {
   "cell_type": "code",
   "execution_count": 21,
   "id": "34a59e24-36cc-42d7-a5bb-b4fea2bb2d52",
   "metadata": {},
   "outputs": [],
   "source": [
    "# 21) write a python program to add \"in\" at the end of given string (length should be at least 3) if the given string already ends with \"ing\" \n",
    "#     then add \"ly\" instead if the string length of the given string is less than 3, leave it unchanged."
   ]
  },
  {
   "cell_type": "code",
   "execution_count": 5,
   "id": "3891dd66-abe7-4062-b4fe-028dc2232879",
   "metadata": {},
   "outputs": [
    {
     "name": "stdin",
     "output_type": "stream",
     "text": [
      "write the word abc\n"
     ]
    },
    {
     "name": "stdout",
     "output_type": "stream",
     "text": [
      "abcing\n"
     ]
    }
   ],
   "source": [
    "s = input(\"write the word\")\n",
    "if len(s)>2:\n",
    "    if s.endswith (\"ing\"):\n",
    "        s +=\"ly\"\n",
    "    else:\n",
    "        s += \"ing\"\n",
    "print(s)"
   ]
  },
  {
   "cell_type": "code",
   "execution_count": 23,
   "id": "f0febf8c-e005-4ad9-82f6-3e77be67a703",
   "metadata": {},
   "outputs": [],
   "source": [
    "# 22) write a python function to reverses a string if its length is a multiple of 4."
   ]
  },
  {
   "cell_type": "code",
   "execution_count": 9,
   "id": "69c85602-5fa8-4a20-81e8-a855b55db24f",
   "metadata": {},
   "outputs": [
    {
     "name": "stdin",
     "output_type": "stream",
     "text": [
      "enter string abcd\n"
     ]
    },
    {
     "name": "stdout",
     "output_type": "stream",
     "text": [
      "final string is : dcba\n"
     ]
    }
   ],
   "source": [
    "def string_chcek(data):\n",
    "    if len(data) % 4 ==0:\n",
    "        return data[::-1]\n",
    "    return data\n",
    "\n",
    "text = input(\"enter string\")\n",
    "result = string_chcek(text)\n",
    "print(\"final string is :\",result)"
   ]
  },
  {
   "cell_type": "code",
   "execution_count": 25,
   "id": "90a9b94e-3c15-42a9-8815-22e0f8967059",
   "metadata": {},
   "outputs": [],
   "source": [
    "# 23) write a python program to get a string made of the first 2 and the last 2 chars from a given a string. if the string length is than 2, return\n",
    "#     instead of the empty string."
   ]
  },
  {
   "cell_type": "code",
   "execution_count": 17,
   "id": "4d2128e2-364f-4591-8222-786c5e533bb4",
   "metadata": {},
   "outputs": [
    {
     "name": "stdin",
     "output_type": "stream",
     "text": [
      "enter a string : mu\n"
     ]
    },
    {
     "name": "stdout",
     "output_type": "stream",
     "text": [
      "new modified string is : string\n"
     ]
    }
   ],
   "source": [
    "def get_string(text):\n",
    "    if len(text) <=2:\n",
    "        return\"string\"\n",
    "    return text [:2] + text [-2:]\n",
    "\n",
    "my_string = input(\"enter a string :\")\n",
    "print (\"new modified string is :\", get_string(my_string))"
   ]
  },
  {
   "cell_type": "code",
   "execution_count": 27,
   "id": "72eac28d-b454-49c0-92c6-46523bd387d1",
   "metadata": {},
   "outputs": [],
   "source": [
    "# 24) write a python function to insert a string in the middle of a string."
   ]
  },
  {
   "cell_type": "code",
   "execution_count": 5,
   "id": "e36bd36f-0d1d-40b5-865e-1cc119578ab9",
   "metadata": {},
   "outputs": [
    {
     "name": "stdout",
     "output_type": "stream",
     "text": [
      "Hello Python World\n"
     ]
    }
   ],
   "source": [
    "def insert_in_middle(original_string, string_to_insert):\n",
    "    \n",
    "    # Calculate the midpoint of the original string\n",
    "    midpoint = len(original_string) // 2\n",
    "    \n",
    "    # Construct the new string with string_to_insert in the middle\n",
    "    new_string = original_string[:midpoint] + string_to_insert + original_string[midpoint:]\n",
    "    \n",
    "    return new_string\n",
    "\n",
    "# Example usage:\n",
    "original = \"Hello World\"\n",
    "to_insert = \" Python\"\n",
    "result = insert_in_middle(original, to_insert)\n",
    "print(result)  \n"
   ]
  },
  {
   "cell_type": "code",
   "execution_count": 29,
   "id": "0c5aed49-51cf-450a-af7d-787166383070",
   "metadata": {},
   "outputs": [],
   "source": [
    "# 25) what is list ? how will you reverse a list ? "
   ]
  },
  {
   "cell_type": "code",
   "execution_count": 7,
   "id": "504c441d-7152-4478-aa5a-3b82642dc3bc",
   "metadata": {},
   "outputs": [],
   "source": [
    "# answer\n",
    "# A list is a data structure in Python that is a mutable, or changeable, ordered sequence of elements. \n",
    "# Each element or value that is inside of a list is called an item. Just as strings are defined as characters between quotes, \n",
    "# lists are defined by having values between square brackets [ ] .\n",
    "\n",
    "# The reverse list python function allows the programmer to reverse the sorting order of the elements stored in the lists. \n",
    "# Python provides a built-in function called as the reverse() function which reverses the order of the data elements in place."
   ]
  },
  {
   "cell_type": "code",
   "execution_count": 3,
   "id": "e86eeefa-ec97-45e7-9726-e63d18d1b8b0",
   "metadata": {},
   "outputs": [],
   "source": [
    "# 26) how will you remove last object from a list ?"
   ]
  },
  {
   "cell_type": "code",
   "execution_count": 5,
   "id": "dbbfae9c-7d89-4049-9e62-9cdb553e26e2",
   "metadata": {},
   "outputs": [],
   "source": [
    "# answer\n",
    "# One way is to use the pop() method. This method removes the last element of a list by default, or you can specify the index of the element\n",
    "# you want to remove. For example: my_list = [1, 2, 3, 4, 5]"
   ]
  },
  {
   "cell_type": "code",
   "execution_count": 9,
   "id": "8612a58e-dea7-4373-bedd-9432c7a3ba64",
   "metadata": {},
   "outputs": [],
   "source": [
    "# 27) suppose list is [2,33,222,14 and 25], what is list 1 [-1] ?"
   ]
  },
  {
   "cell_type": "code",
   "execution_count": 15,
   "id": "498e538a-5eed-4b5c-a2b0-9f9f8da4c77f",
   "metadata": {},
   "outputs": [],
   "source": [
    "# answer \n",
    "# (like in other programming languages) instead of list1[-1], list1[-2],… for the elements from last. So that answers your question,\n",
    "# list1[-1] = 25, the last element in the given list."
   ]
  },
  {
   "cell_type": "code",
   "execution_count": 35,
   "id": "5b39531a-09d8-4b8f-a17d-365c4d7eb5d2",
   "metadata": {},
   "outputs": [],
   "source": [
    "# 28) differentiate between append () and extend () methods ?"
   ]
  },
  {
   "cell_type": "code",
   "execution_count": 13,
   "id": "28b3e306-3181-47fc-a1eb-575e3b4d27a1",
   "metadata": {},
   "outputs": [],
   "source": [
    "# answer \n",
    "# Append function in Python adds a single element to the end of the list, whereas the extend function adds multiple elements \n",
    "# (from an iterable) to the list. Append takes a single element as an argument, while extend takes an iterable as an argument."
   ]
  },
  {
   "cell_type": "code",
   "execution_count": 37,
   "id": "7721e4de-20ac-4eb8-8b88-370a8e99af4a",
   "metadata": {},
   "outputs": [],
   "source": [
    "# 29) write a python function to get the largest number, smallest num and sum of all from a list."
   ]
  },
  {
   "cell_type": "code",
   "execution_count": 7,
   "id": "011a63e9-dcfe-4866-8ae4-ab255621f333",
   "metadata": {},
   "outputs": [
    {
     "name": "stdout",
     "output_type": "stream",
     "text": [
      "Largest number: 10\n",
      "Smallest number: 3\n",
      "Sum of all numbers: 34\n"
     ]
    }
   ],
   "source": [
    "def analyze_numbers(numbers):\n",
    "   \n",
    "    if not numbers:\n",
    "        raise ValueError(\"The list is empty.\")\n",
    "    \n",
    "    # Initialize the largest and smallest numbers with the first element of the list\n",
    "    largest_number = smallest_number = numbers[0]\n",
    "    \n",
    "    # Initialize the sum to 0\n",
    "    total_sum = 0\n",
    "    \n",
    "    # Traverse through the list to compute the values\n",
    "    for num in numbers:\n",
    "        if num > largest_number:\n",
    "            largest_number = num\n",
    "        if num < smallest_number:\n",
    "            smallest_number = num\n",
    "        total_sum += num\n",
    "    \n",
    "    return (largest_number, smallest_number, total_sum)\n",
    "\n",
    "# Example usage:\n",
    "numbers = [10, 5, 7, 3, 9]\n",
    "result = analyze_numbers(numbers)\n",
    "print(f\"Largest number: {result[0]}\")\n",
    "print(f\"Smallest number: {result[1]}\")\n",
    "print(f\"Sum of all numbers: {result[2]}\")\n"
   ]
  },
  {
   "cell_type": "code",
   "execution_count": 39,
   "id": "520abb98-7e55-4c2a-9880-b6a6f4c66263",
   "metadata": {},
   "outputs": [],
   "source": [
    "# 30) how will you compare two lists?"
   ]
  },
  {
   "cell_type": "code",
   "execution_count": 23,
   "id": "13c2ba8d-db71-4331-be61-2325dfa573d2",
   "metadata": {},
   "outputs": [],
   "source": [
    "# answer \n",
    "# list1 - [11, 12, 13, 14, 15] list2 - [11, 12, 13, 14, 15] Output - The lists are equal.\n",
    "# list1 = [11, 12, 13, 14, 15] list2 = [12, 13, 11, 15, 14] a = set(list1) \n",
    "# b = set(list2) if a == b: print(\"The list1 and list2 are equal\") else: print(\"The list1 and list2 are not equal\")"
   ]
  },
  {
   "cell_type": "code",
   "execution_count": 41,
   "id": "f20038ea-cc81-44d2-b2d9-d03fb8687f03",
   "metadata": {},
   "outputs": [],
   "source": [
    "# 31) write a python program to count the number of strings where the string length is 2 or more and the first and last character are same from\n",
    "#     a given list of strings."
   ]
  },
  {
   "cell_type": "code",
   "execution_count": 9,
   "id": "2401331d-4a10-46dd-9848-424f6e738c62",
   "metadata": {},
   "outputs": [
    {
     "name": "stdout",
     "output_type": "stream",
     "text": [
      "Count of strings where length >= 2 and first and last characters are the same: 4\n"
     ]
    }
   ],
   "source": [
    "def count_special_strings(strings):\n",
    "   \n",
    "    count = 0\n",
    "    \n",
    "    for s in strings:\n",
    "        if len(s) >= 2 and s[0] == s[-1]:\n",
    "            count += 1\n",
    "    \n",
    "    return count\n",
    "\n",
    "# Example usage:\n",
    "string_list = [\"aba\", \"ab\", \"a\", \"cac\", \"racecar\", \"abc\", \"aaa\"]\n",
    "result = count_special_strings(string_list)\n",
    "print(f\"Count of strings where length >= 2 and first and last characters are the same: {result}\")\n"
   ]
  },
  {
   "cell_type": "code",
   "execution_count": 43,
   "id": "fc6131ce-11a2-4b52-8ec3-f946f3619953",
   "metadata": {},
   "outputs": [],
   "source": [
    "# 32) write a python program to remove duplicates from a list."
   ]
  },
  {
   "cell_type": "code",
   "execution_count": 31,
   "id": "05ac20c6-5f5b-4756-9ac8-57c0be267774",
   "metadata": {},
   "outputs": [
    {
     "name": "stdin",
     "output_type": "stream",
     "text": [
      "enter the numbre of eliment 3\n",
      "enter element 3\n",
      "enter element 3\n",
      "enter element 2\n"
     ]
    },
    {
     "name": "stdout",
     "output_type": "stream",
     "text": [
      "my list : ['3', '3', '2']\n",
      "non_duplicate_value\n"
     ]
    }
   ],
   "source": [
    "duplicate = int(input(\"enter the numbre of eliment\"))          # not done yet\n",
    "l = []\n",
    "for i in range (duplicate):\n",
    "    els = input(\"enter element\")\n",
    "    l.append(els)\n",
    "print(\"my list :\",l)\n",
    "non_duplicate_value = set(l)\n",
    "print(\"non_duplicate_value\")"
   ]
  },
  {
   "cell_type": "code",
   "execution_count": 45,
   "id": "118dad34-7566-4bf4-a417-bc7730376cc8",
   "metadata": {},
   "outputs": [],
   "source": [
    "# 33) write a python program to check a list is empty or not."
   ]
  },
  {
   "cell_type": "code",
   "execution_count": 13,
   "id": "a972b828-185c-4daf-b730-9d3663c79f2f",
   "metadata": {},
   "outputs": [
    {
     "name": "stdout",
     "output_type": "stream",
     "text": [
      "list is empty\n",
      "[]\n"
     ]
    }
   ],
   "source": [
    "my_list = []\n",
    "if len(my_list) ==0:\n",
    "    print(\"list is empty\")\n",
    "print(my_list)"
   ]
  },
  {
   "cell_type": "code",
   "execution_count": 3,
   "id": "df5faff5-66e1-45f1-857d-0770551d49e1",
   "metadata": {},
   "outputs": [],
   "source": [
    "# 34) write a python function that takes two lists and returns true if they have at least one common member."
   ]
  },
  {
   "cell_type": "code",
   "execution_count": 47,
   "id": "dc9b5eeb-8769-4586-9b21-df9e3d450048",
   "metadata": {},
   "outputs": [
    {
     "name": "stdout",
     "output_type": "stream",
     "text": [
      "true\n"
     ]
    }
   ],
   "source": [
    "list_one = [20,19,25,24]\n",
    "list_two = [25,23,22,21]\n",
    "\n",
    "for x in (list_one):\n",
    "    for y in (list_two):\n",
    "        if (x==y):\n",
    "            print(\"true\")\n",
    "\n"
   ]
  },
  {
   "cell_type": "code",
   "execution_count": 49,
   "id": "2c4443b3-4b16-4552-9074-eec70bdb4d9b",
   "metadata": {},
   "outputs": [],
   "source": [
    "# 35) write a python program to generate and print a list of first and last 5 elements where the values are square of numbers between 1 and 30."
   ]
  },
  {
   "cell_type": "code",
   "execution_count": 49,
   "id": "b8561829-85d7-4cd4-9473-f4126e8e7186",
   "metadata": {},
   "outputs": [
    {
     "name": "stdout",
     "output_type": "stream",
     "text": [
      "[1, 4, 9, 16, 25, 36, 49, 64, 81, 100, 121, 144, 169, 196, 225, 256, 289, 324, 361, 400, 441, 484, 529, 576, 625, 676, 729, 784, 841, 900]\n",
      "first five elements : [1, 4, 9, 16, 25]\n",
      "last five elements : [676, 729, 784, 841, 900]\n"
     ]
    }
   ],
   "source": [
    "first = []\n",
    "for i in range(1,31):\n",
    "    first.append(i*i)\n",
    "print(first)\n",
    "print(\"first five elements :\",first[0:5])\n",
    "print(\"last five elements :\",first[-5:])"
   ]
  },
  {
   "cell_type": "code",
   "execution_count": 51,
   "id": "a5366a14-c73d-47eb-907c-e4c0e4fca946",
   "metadata": {},
   "outputs": [],
   "source": [
    "# 36) write a python function that takes a list and returns a new list with unique elements of the first list."
   ]
  },
  {
   "cell_type": "code",
   "execution_count": 51,
   "id": "5f32fc5a-cf8f-41ac-a6ad-b5334a3b5355",
   "metadata": {},
   "outputs": [
    {
     "name": "stdout",
     "output_type": "stream",
     "text": [
      "[24, 55, 76, 45, 55, 95, 95]\n",
      "[76, 45, 55, 24, 95]\n"
     ]
    }
   ],
   "source": [
    "demo_list = [24,55,76,45,55,95,95]\n",
    "print(demo_list)\n",
    "print(list(set(demo_list)))"
   ]
  },
  {
   "cell_type": "code",
   "execution_count": 53,
   "id": "f134c589-e7af-4731-b99d-28f8af425e5d",
   "metadata": {},
   "outputs": [],
   "source": [
    "# 37) write a python program to convert a list of characters into a string."
   ]
  },
  {
   "cell_type": "code",
   "execution_count": 61,
   "id": "2abf38a1-6182-4729-977b-c171ca61f7f7",
   "metadata": {},
   "outputs": [
    {
     "name": "stdout",
     "output_type": "stream",
     "text": [
      "muslimsheikh 47\n"
     ]
    }
   ],
   "source": [
    "my_list = ['m', 'u', 's', 'l', 'i', 'm', 's', 'h', 'e', 'i', 'k', 'h', \" \", 4, 7]\n",
    "\n",
    "converted_string = ''.join(map(str, my_list))\n",
    "\n",
    "print(converted_string)\n"
   ]
  },
  {
   "cell_type": "code",
   "execution_count": null,
   "id": "fed8d417-abff-49f0-926a-c10d0f46f8d7",
   "metadata": {},
   "outputs": [],
   "source": [
    "# 38) write a python program to select an item randomly from a list.import random"
   ]
  },
  {
   "cell_type": "code",
   "execution_count": 13,
   "id": "6c2de9a0-84e9-4891-a8d7-c69c5ffbd927",
   "metadata": {},
   "outputs": [
    {
     "name": "stdout",
     "output_type": "stream",
     "text": [
      "Randomly selected item: date\n"
     ]
    }
   ],
   "source": [
    "import random\n",
    "\n",
    "def select_random_item(items):\n",
    "    \n",
    "    if not items:\n",
    "        raise ValueError(\"The list is empty. Cannot select a random item.\")\n",
    "    \n",
    "    return random.choice(items)\n",
    "\n",
    "# Example usage:\n",
    "my_list = [\"apple\", \"banana\", \"cherry\", \"date\"]\n",
    "selected_item = select_random_item(my_list)\n",
    "print(f\"Randomly selected item: {selected_item}\")\n"
   ]
  },
  {
   "cell_type": "code",
   "execution_count": 77,
   "id": "583b2e32-98e4-4ba4-83c7-ffd9e0b011fd",
   "metadata": {},
   "outputs": [],
   "source": [
    "# 39) write a python program to find the second smallest number in a list."
   ]
  },
  {
   "cell_type": "code",
   "execution_count": 69,
   "id": "3d4d756b-f6fe-45e1-bca6-7d7e200ecce2",
   "metadata": {},
   "outputs": [
    {
     "name": "stdout",
     "output_type": "stream",
     "text": [
      "The second smallest number is: 2\n"
     ]
    }
   ],
   "source": [
    "def find_second_smallest(numbers):\n",
    "    unique_numbers = set(numbers)\n",
    "    \n",
    "    if len(unique_numbers) < 2:\n",
    "        return None\n",
    "        \n",
    "    sorted_numbers = sorted(unique_numbers)\n",
    "    \n",
    "    return sorted_numbers[1]\n",
    "\n",
    "\n",
    "my_list = [5, 3, 9, 1, 4, 1, 7, 9, 2]\n",
    "second_smallest = find_second_smallest(my_list)\n",
    "\n",
    "if second_smallest is not None:\n",
    "    print(f\"The second smallest number is: {second_smallest}\")\n",
    "else:\n",
    "    print(\"There are not enough unique numbers to find the second smallest.\")\n"
   ]
  },
  {
   "cell_type": "code",
   "execution_count": 59,
   "id": "76968a90-af76-42e1-a244-5081b84f432c",
   "metadata": {},
   "outputs": [],
   "source": [
    "# 40) write a python program to get unique values from a list."
   ]
  },
  {
   "cell_type": "code",
   "execution_count": 75,
   "id": "6162f08c-c0d9-4c17-93d5-e61c93bdf2b2",
   "metadata": {},
   "outputs": [
    {
     "name": "stdout",
     "output_type": "stream",
     "text": [
      "[1, 2, 3, 4, 5, 6, 'muslim', 'sheikh']\n"
     ]
    }
   ],
   "source": [
    "my_list = [1, 2, 2, 3, 4, 4, 5, 5, 6,\"muslim\",\"sheikh\"]\n",
    "unique_list = []\n",
    "for a in my_list:\n",
    "    if a not in unique_list:\n",
    "        unique_list.append(a)\n",
    "print(unique_list)"
   ]
  },
  {
   "cell_type": "code",
   "execution_count": 61,
   "id": "8542b250-560d-4ded-adff-0ab92d0e10c4",
   "metadata": {},
   "outputs": [],
   "source": [
    "# 41) write a python program to check whether a list contains a sub list."
   ]
  },
  {
   "cell_type": "code",
   "execution_count": 25,
   "id": "d1b60add-8849-4886-974e-2edf23d27640",
   "metadata": {},
   "outputs": [
    {
     "name": "stdout",
     "output_type": "stream",
     "text": [
      "Does the main list contain the sublist? True\n",
      "Does the main list contain the sublist? False\n"
     ]
    }
   ],
   "source": [
    "def contains_sublist(main_list, sublist):\n",
    "    \n",
    "    sublist_length = len(sublist)\n",
    "    main_list_length = len(main_list)\n",
    "\n",
    "    # If the sublist is longer than the main list, it cannot be contained\n",
    "    if sublist_length > main_list_length:\n",
    "        return False\n",
    "\n",
    "    # Iterate through the main list\n",
    "    for i in range(main_list_length - sublist_length + 1):\n",
    "        # Check if the sublist matches the slice of the main list\n",
    "        if main_list[i:i + sublist_length] == sublist:\n",
    "            return True\n",
    "\n",
    "    return False\n",
    "\n",
    "# Example usage:\n",
    "main_list = [1, 2, 3, 4, 5, 6, 7]\n",
    "sublist = [3, 4, 5]\n",
    "result = contains_sublist(main_list, sublist)\n",
    "print(f\"Does the main list contain the sublist? {result}\")\n",
    "\n",
    "sublist2 = [4, 5, 7]\n",
    "result2 = contains_sublist(main_list, sublist2)\n",
    "print(f\"Does the main list contain the sublist? {result2}\")\n",
    "\n"
   ]
  },
  {
   "cell_type": "code",
   "execution_count": 19,
   "id": "761e6c52-e6ca-4ef6-88aa-f6f7f64b8e00",
   "metadata": {},
   "outputs": [],
   "source": [
    "# 42) write a python program to split a list into different variables."
   ]
  },
  {
   "cell_type": "code",
   "execution_count": 35,
   "id": "b4154dd5-e8f8-46f7-96e9-72958f28e7e8",
   "metadata": {},
   "outputs": [
    {
     "name": "stdout",
     "output_type": "stream",
     "text": [
      "['what', 'is', 'your', 'name', '?']\n",
      "var_1 what\n",
      "var_2 is\n",
      "var_3 your\n",
      "var_4 name\n",
      "var_5 ?\n"
     ]
    }
   ],
   "source": [
    "_42_list = [\"what\",\"is\",'your','name','?']\n",
    "print(_42_list)\n",
    "a,b,c,d,e = _42_list\n",
    "print(\"var_1\",a)\n",
    "print(\"var_2\",b)\n",
    "print(\"var_3\",c)\n",
    "print(\"var_4\",d)\n",
    "print(\"var_5\",e)\n"
   ]
  },
  {
   "cell_type": "code",
   "execution_count": 65,
   "id": "b7ba4f40-b346-4130-8383-9b47bb2c4ed7",
   "metadata": {},
   "outputs": [],
   "source": [
    "# 43) what is tuple ? difference between list and tuple."
   ]
  },
  {
   "cell_type": "code",
   "execution_count": 7,
   "id": "b5168416-7ce7-41cd-a773-0f2aada0a0f2",
   "metadata": {},
   "outputs": [],
   "source": [
    "# answer : The key difference between tuples and lists is that while tuples are immutable objects, lists are mutable. This means tuples cannot be changed\n",
    "#          while lists can be modified. Tuples are also more memory efficient than the lists."
   ]
  },
  {
   "cell_type": "code",
   "execution_count": 67,
   "id": "10637e55-f857-4a83-b501-fb688898cba0",
   "metadata": {},
   "outputs": [],
   "source": [
    "# 44) write a python program to create a tuple with different data types."
   ]
  },
  {
   "cell_type": "code",
   "execution_count": 5,
   "id": "7463950c-453a-4ce5-9e9b-b13b85b53851",
   "metadata": {},
   "outputs": [
    {
     "name": "stdout",
     "output_type": "stream",
     "text": [
      "('tuple', 54, 54.21)\n"
     ]
    }
   ],
   "source": [
    "tuplex = (\"tuple\",54,54.21)\n",
    "print(tuplex)"
   ]
  },
  {
   "cell_type": "code",
   "execution_count": 69,
   "id": "ef7dd43a-987f-4afd-a1fb-d7110a6fe7ee",
   "metadata": {},
   "outputs": [],
   "source": [
    "# 45) write a python program to unzip a list of tuples into individual lists."
   ]
  },
  {
   "cell_type": "code",
   "execution_count": 7,
   "id": "a81f99dd-ddc1-4519-928f-dfa6b28fdebb",
   "metadata": {},
   "outputs": [
    {
     "name": "stdout",
     "output_type": "stream",
     "text": [
      "[(4, 6, 'you'), (5, 7, 'me'), ('name', 4.45, 'him')]\n"
     ]
    }
   ],
   "source": [
    "list_45 = [(4,5,\"name\"),(6,7,4.45),('you','me','him')]\n",
    "print(list(zip(*list_45)))"
   ]
  },
  {
   "cell_type": "code",
   "execution_count": 71,
   "id": "dc493f88-97a6-4930-82bc-9289b6cfe568",
   "metadata": {},
   "outputs": [],
   "source": [
    "# 46) write a python program to convert a list of tuples into a dictionary."
   ]
  },
  {
   "cell_type": "code",
   "execution_count": 3,
   "id": "4e389c57-b535-43cf-b498-541fdd7fa8ec",
   "metadata": {},
   "outputs": [
    {
     "name": "stdout",
     "output_type": "stream",
     "text": [
      "my dictionary : {'rahul': 12, 'tina': 13, 'karan': 14}\n"
     ]
    }
   ],
   "source": [
    "list_46 = [('rahul',12),('tina',13),('karan',14)]\n",
    "dictionary = dict(list_46)\n",
    "print(\"my dictionary :\",dictionary)"
   ]
  },
  {
   "cell_type": "code",
   "execution_count": 75,
   "id": "8862ae28-dd47-4f82-8ee2-3ca9745f8e74",
   "metadata": {},
   "outputs": [],
   "source": [
    "# 47) how will you create a dictionary using tuples in python ? "
   ]
  },
  {
   "cell_type": "code",
   "execution_count": 9,
   "id": "b901de98-aa8a-4656-842f-1109fcd7abd8",
   "metadata": {},
   "outputs": [
    {
     "name": "stdout",
     "output_type": "stream",
     "text": [
      "{'a': 1, 'b': 2, 'c': 3}\n"
     ]
    }
   ],
   "source": [
    "# Explanation-\n",
    "# In the first step, we have created a function that takes tuple and dictionary as an input.\n",
    "# After this, we have used for loop to use the dict() that takes tuple as a parameter and returns a dictionary.\n",
    "# Now we have initialized the values of our tuple and declared the resultant dictionary as {}.\n",
    "\n",
    "def tuple_to_dict(tuple_input, result_dict):\n",
    "    # Convert tuple to dictionary and update the result_dict\n",
    "    result_dict.update(dict(tuple_input))\n",
    "\n",
    "# Initialize values\n",
    "tuple_input = (('a', 1), ('b', 2), ('c', 3))\n",
    "result_dict = {}\n",
    "\n",
    "# Call the function\n",
    "tuple_to_dict(tuple_input, result_dict)\n",
    "\n",
    "print(result_dict)\n",
    "# Output: {'a': 1, 'b': 2, 'c': 3}\n"
   ]
  },
  {
   "cell_type": "code",
   "execution_count": null,
   "id": "4c17c0f9-b287-46e8-9893-3623babfef8d",
   "metadata": {},
   "outputs": [],
   "source": [
    "# 48) write a python program to sort (ascending and descending) a dictionary by value."
   ]
  },
  {
   "cell_type": "code",
   "execution_count": 35,
   "id": "a80f8a33-6ac2-4dd9-8fb0-492fdcc4bd08",
   "metadata": {},
   "outputs": [
    {
     "name": "stdout",
     "output_type": "stream",
     "text": [
      "Sorted in ascending order: {'d': 1, 'b': 2, 'a': 5, 'c': 9}\n",
      "Sorted in descending order: {'c': 9, 'a': 5, 'b': 2, 'd': 1}\n"
     ]
    }
   ],
   "source": [
    "def sort_dict_by_value(d, ascending=True):\n",
    "    \n",
    "    # Sorting the dictionary by value\n",
    "    sorted_items = sorted(d.items(), key=lambda item: item[1], reverse=not ascending)\n",
    "    \n",
    "    # Converting the sorted items back to a dictionary\n",
    "    sorted_dict = dict(sorted_items)\n",
    "    \n",
    "    return sorted_dict\n",
    "\n",
    "# Example dictionary\n",
    "example_dict = {\n",
    "    'a': 5,\n",
    "    'b': 2,\n",
    "    'c': 9,\n",
    "    'd': 1\n",
    "}\n",
    "\n",
    "# Sort in ascending order\n",
    "sorted_asc = sort_dict_by_value(example_dict, ascending=True)\n",
    "print(\"Sorted in ascending order:\", sorted_asc)\n",
    "\n",
    "# Sort in descending order\n",
    "sorted_desc = sort_dict_by_value(example_dict, ascending=False)\n",
    "print(\"Sorted in descending order:\", sorted_desc)\n"
   ]
  },
  {
   "cell_type": "code",
   "execution_count": 79,
   "id": "f51eb4fe-6c27-4f03-882d-18b78e803b27",
   "metadata": {},
   "outputs": [],
   "source": [
    "# 49) write a python script to concatenate following dictionaries to create a new one."
   ]
  },
  {
   "cell_type": "code",
   "execution_count": 9,
   "id": "fa035ec0-468f-4cda-98cb-f786c140a595",
   "metadata": {},
   "outputs": [
    {
     "name": "stdout",
     "output_type": "stream",
     "text": [
      "a_49 : {1: 10, 2: 20, 3: 30}\n",
      "b_49 : {4: 40, 5: 50, 6: 60}\n",
      "c_49 : {7: 70, 8: 80, 9: 90}\n",
      "e_49 is new dictionary : {1: 10, 2: 20, 3: 30, 4: 40, 5: 50, 6: 60, 7: 70, 8: 80, 9: 90}\n"
     ]
    }
   ],
   "source": [
    "a_49 = {1:10 , 2:20 , 3:30}\n",
    "b_49 = {4:40 , 5:50 , 6:60}\n",
    "c_49 = {7:70 , 8:80 , 9:90}\n",
    "e_49 = {}\n",
    "\n",
    "print(\"a_49 :\",a_49)\n",
    "print(\"b_49 :\",b_49)\n",
    "print(\"c_49 :\",c_49)\n",
    "\n",
    "for f in (a_49, b_49, c_49):\n",
    "    e_49.update(f)\n",
    "\n",
    "print(\"e_49 is new dictionary :\",e_49)"
   ]
  },
  {
   "cell_type": "code",
   "execution_count": 81,
   "id": "c06502ed-f3e8-432a-ba94-f6a32d9ff46a",
   "metadata": {},
   "outputs": [],
   "source": [
    "# 50) write a python script to check if a given key already exists in a dictionary."
   ]
  },
  {
   "cell_type": "code",
   "execution_count": 17,
   "id": "090d8421-c8c3-4f1c-97fb-ea8ee53acdb3",
   "metadata": {},
   "outputs": [
    {
     "name": "stdin",
     "output_type": "stream",
     "text": [
      "enter the value 1\n"
     ]
    },
    {
     "name": "stdout",
     "output_type": "stream",
     "text": [
      "key is present in the dictionary\n"
     ]
    }
   ],
   "source": [
    "a_50 = {1:10, 2:20, 3:30, 4:40, 5:50, 6:60}\n",
    "def is_key_present(x):\n",
    "    if x in a_50:\n",
    "        print(\"key is present in the dictionary\")\n",
    "    else:\n",
    "        print(\"key is not preset in the dictionary\")\n",
    "\n",
    "is_key_present(int(input(\"enter the value\")))"
   ]
  },
  {
   "cell_type": "code",
   "execution_count": 84,
   "id": "a433e412-d6ce-4f8c-9807-cf61a32e7ac7",
   "metadata": {},
   "outputs": [],
   "source": [
    "# 51) How Do You Traverse Through a Dictionary Object in Python?"
   ]
  },
  {
   "cell_type": "code",
   "execution_count": 1,
   "id": "4b2b9de7-91cd-41ef-8cff-bf8f185bb692",
   "metadata": {},
   "outputs": [
    {
     "name": "stdout",
     "output_type": "stream",
     "text": [
      "a 1\n",
      "b 2\n",
      "c 3\n"
     ]
    }
   ],
   "source": [
    "# Use keys() to iterate through keys.\n",
    "my_dict = {'a': 1, 'b': 2, 'c': 3}\n",
    "for key in my_dict:\n",
    "    print(key, my_dict[key])\n"
   ]
  },
  {
   "cell_type": "code",
   "execution_count": 86,
   "id": "972cbbf1-5179-4497-84a9-e38fe3f9807c",
   "metadata": {},
   "outputs": [],
   "source": [
    "# 52) How Do You Check the Presence of a Key in A Dictionary?"
   ]
  },
  {
   "cell_type": "code",
   "execution_count": 3,
   "id": "f8b5b087-7989-4322-9a25-9384fa708db0",
   "metadata": {},
   "outputs": [
    {
     "name": "stdout",
     "output_type": "stream",
     "text": [
      "Key 'a' is present.\n"
     ]
    }
   ],
   "source": [
    "# To check if a key is present in a dictionary, you can use the in keyword:\n",
    "my_dict = {'a': 1, 'b': 2, 'c': 3}\n",
    "if 'a' in my_dict:\n",
    "    print(\"Key 'a' is present.\")\n",
    "else:\n",
    "    print(\"Key 'a' is not present.\")\n"
   ]
  },
  {
   "cell_type": "code",
   "execution_count": 88,
   "id": "7d74b6ff-2372-4332-bf4e-8cd5a4d0b969",
   "metadata": {},
   "outputs": [],
   "source": [
    "# 53) Write a Python script to print a dictionary where the keys are numbers between 1 and 15."
   ]
  },
  {
   "cell_type": "code",
   "execution_count": 1,
   "id": "7b32dd94-4804-4353-a80d-211c815870e7",
   "metadata": {},
   "outputs": [
    {
     "name": "stdout",
     "output_type": "stream",
     "text": [
      "{1: 'Value 1', 2: 'Value 2', 3: 'Value 3', 4: 'Value 4', 5: 'Value 5', 6: 'Value 6', 7: 'Value 7', 8: 'Value 8', 9: 'Value 9', 10: 'Value 10', 11: 'Value 11', 12: 'Value 12', 13: 'Value 13', 14: 'Value 14', 15: 'Value 15'}\n"
     ]
    }
   ],
   "source": [
    "my_dict = {i: f\"Value {i}\" for i in range(1, 16)}\n",
    "\n",
    "print(my_dict)"
   ]
  },
  {
   "cell_type": "code",
   "execution_count": 94,
   "id": "f9beb32c-4e60-49c2-9cbb-2565856e8868",
   "metadata": {},
   "outputs": [],
   "source": [
    "# 54) Write a Python program to check multiple keys exists in a dictionary"
   ]
  },
  {
   "cell_type": "code",
   "execution_count": 3,
   "id": "6123bab0-8d1b-4028-915e-abcaf0755412",
   "metadata": {},
   "outputs": [
    {
     "name": "stdout",
     "output_type": "stream",
     "text": [
      "{2: True, 4: True, 7: False, 10: False}\n"
     ]
    }
   ],
   "source": [
    "\n",
    "my_dict = {\n",
    "    1: \"Value 1\",\n",
    "    2: \"Value 2\",\n",
    "    3: \"Value 3\",\n",
    "    4: \"Value 4\",\n",
    "    5: \"Value 5\",}\n",
    "\n",
    "keys_to_check = [2, 4, 7, 10]\n",
    "\n",
    "def check_keys_existence(dictionary, keys):\n",
    "    return {key: key in dictionary for key in keys}\n",
    "\n",
    "\n",
    "results = check_keys_existence(my_dict, keys_to_check)\n",
    "print(results)\n"
   ]
  },
  {
   "cell_type": "code",
   "execution_count": 98,
   "id": "05445780-a0ca-4f9a-9f2b-bb3f341f404e",
   "metadata": {},
   "outputs": [],
   "source": [
    "# 55) Write a Python script to merge two Python dictionaries"
   ]
  },
  {
   "cell_type": "code",
   "execution_count": 5,
   "id": "6b152fc8-7dcc-434d-a962-c0e24369ead6",
   "metadata": {},
   "outputs": [
    {
     "name": "stdout",
     "output_type": "stream",
     "text": [
      "Merged dictionary using unpacking: {'a': 1, 'b': 3, 'c': 4}\n",
      "Merged dictionary using | operator: {'a': 1, 'b': 3, 'c': 4}\n"
     ]
    }
   ],
   "source": [
    "# Define two dictionaries\n",
    "dict1 = {'a': 1, 'b': 2}\n",
    "dict2 = {'b': 3, 'c': 4}\n",
    "\n",
    "merged_dict = {**dict1, **dict2}\n",
    "\n",
    "merged_dict_v2 = dict1 | dict2\n",
    "\n",
    "print(\"Merged dictionary using unpacking:\", merged_dict)\n",
    "print(\"Merged dictionary using | operator:\", merged_dict_v2)\n"
   ]
  },
  {
   "cell_type": "code",
   "execution_count": 96,
   "id": "ea5e82d2-c72e-4a78-ab98-7a3c3434fb1b",
   "metadata": {},
   "outputs": [],
   "source": [
    "# 56) Write a Python program to map two lists into a dictionary\n",
    "#     Sample output: Counter ({'a': 400, 'b': 400,’d’: 400, 'c': 300})."
   ]
  },
  {
   "cell_type": "code",
   "execution_count": 100,
   "id": "8d38f24a-ece0-4fe2-88d9-90890a7ffd5e",
   "metadata": {},
   "outputs": [],
   "source": [
    "# 57) Write a Python program to find the highest 3 values in a dictionary"
   ]
  },
  {
   "cell_type": "code",
   "execution_count": 7,
   "id": "532c7269-9562-4a6c-b378-0f6157018553",
   "metadata": {},
   "outputs": [
    {
     "name": "stdout",
     "output_type": "stream",
     "text": [
      "Top 3 highest values: {'f': 350, 'c': 300, 'b': 250}\n"
     ]
    }
   ],
   "source": [
    "my_dict = {\n",
    "    'a': 100,\n",
    "    'b': 250,\n",
    "    'c': 300,\n",
    "    'd': 150,\n",
    "    'e': 200,\n",
    "    'f': 350,\n",
    "    'g': 175\n",
    "}\n",
    "\n",
    "def top_n_values(d, n=3):\n",
    "    top_items = sorted(d.items(), key=lambda item: item[1], reverse=True)[:n]\n",
    "    return dict(top_items)\n",
    "\n",
    "top_3_values = top_n_values(my_dict, 3)\n",
    "\n",
    "print(\"Top 3 highest values:\", top_3_values)\n"
   ]
  },
  {
   "cell_type": "code",
   "execution_count": 104,
   "id": "3108e6c1-5b84-4141-b951-b85eab8e9335",
   "metadata": {},
   "outputs": [],
   "source": [
    "# 58) Write a Python program to combine values in python list of dictionaries.\n",
    "#    Sample data: [{'item': 'item1', 'amount': 400}, {'item': 'item2', 'amount': 300}, o {'item': 'item1', 'amount': 750}]\n",
    "#    Expected Output:\n",
    "#\t Counter ({'item1': 1150, 'item2': 300})\n"
   ]
  },
  {
   "cell_type": "code",
   "execution_count": 5,
   "id": "68507469-c856-4150-80fd-0496c5f5e910",
   "metadata": {},
   "outputs": [
    {
     "name": "stdout",
     "output_type": "stream",
     "text": [
      "Counter({'item1': 1150, 'item2': 300})\n"
     ]
    }
   ],
   "source": [
    "from collections import Counter\n",
    "\n",
    "data = [{'item': 'item1', 'amount': 400}, {'item': 'item2', 'amount': 300}, {'item': 'item1', 'amount': 750}]\n",
    "\n",
    "counter = Counter()\n",
    "\n",
    "for entry in data:\n",
    "    counter[entry['item']] += entry['amount']\n",
    "\n",
    "print(counter)\n",
    "\n"
   ]
  },
  {
   "cell_type": "code",
   "execution_count": 106,
   "id": "e3f5b162-5cbe-4028-ba08-f4cacee82ad7",
   "metadata": {},
   "outputs": [],
   "source": [
    "# 59) Write a Python program to create a dictionary from a string.\n",
    "#     Note: Track the count of the letters from the string.\n"
   ]
  },
  {
   "cell_type": "code",
   "execution_count": 9,
   "id": "9a950231-64d3-4d84-8175-19183e6ce5f7",
   "metadata": {},
   "outputs": [
    {
     "name": "stdout",
     "output_type": "stream",
     "text": [
      "Character count dictionary: {'h': 1, 'e': 1, 'l': 3, 'o': 2, 'w': 1, 'r': 1, 'd': 1}\n"
     ]
    }
   ],
   "source": [
    "input_string = \"hello world\"\n",
    "\n",
    "char_count = {}\n",
    "\n",
    "for char in input_string:\n",
    "    if char.isalnum():  \n",
    "        if char in char_count:\n",
    "            char_count[char] += 1\n",
    "        else:\n",
    "            char_count[char] = 1\n",
    "\n",
    "print(\"Character count dictionary:\", char_count)\n"
   ]
  },
  {
   "cell_type": "code",
   "execution_count": 108,
   "id": "81f3b294-c446-4346-97c0-5456b9ae9d31",
   "metadata": {},
   "outputs": [],
   "source": [
    "# 60) Sample\tstring: \n",
    "#    'w3resource' Expected output:\n",
    "#  \t {'3': 1,’s’: 1, 'r': 2, 'u': 1, 'w': 1, 'c': 1, 'e': 2, 'o': 1}\n"
   ]
  },
  {
   "cell_type": "code",
   "execution_count": 110,
   "id": "392bed18-b71b-4c78-be40-f932885e48fd",
   "metadata": {},
   "outputs": [],
   "source": [
    "# 61) Write a Python function to calculate the factorial of a number (a nonnegative integer)"
   ]
  },
  {
   "cell_type": "code",
   "execution_count": 15,
   "id": "f0488c36-8318-44c7-a88a-8ea624337390",
   "metadata": {},
   "outputs": [
    {
     "name": "stdin",
     "output_type": "stream",
     "text": [
      "enter the numbre 5\n"
     ]
    },
    {
     "name": "stdout",
     "output_type": "stream",
     "text": [
      "The factorial of 5 is 120\n"
     ]
    }
   ],
   "source": [
    "def factorial_iterative(n):\n",
    "    if n < 0:\n",
    "        raise ValueError(\"Factorial is not defined for negative numbers\")\n",
    "    result = 1\n",
    "    for i in range(2, n + 1):\n",
    "        result *= i\n",
    "    return result\n",
    "\n",
    "number = int(input(\"enter the numbre\"))\n",
    "print(f\"The factorial of {number} is {factorial_iterative(number)}\")\n"
   ]
  },
  {
   "cell_type": "code",
   "execution_count": 112,
   "id": "c649dda6-5a38-4c0d-8fc8-c0f6e0c2264e",
   "metadata": {},
   "outputs": [],
   "source": [
    "# 62) Write a Python function to check whether a number is in a given range"
   ]
  },
  {
   "cell_type": "code",
   "execution_count": 9,
   "id": "719f5995-6c95-48e1-ab3c-7b4c46645084",
   "metadata": {},
   "outputs": [
    {
     "name": "stdout",
     "output_type": "stream",
     "text": [
      "7 is in the range 5 to 10.\n"
     ]
    }
   ],
   "source": [
    "def is_in_range(number, start, end):\n",
    "    \n",
    "    return start <= number <= end\n",
    "\n",
    "\n",
    "number = 7\n",
    "start = 5\n",
    "end = 10\n",
    "\n",
    "if is_in_range(number, start, end):\n",
    "    print(f\"{number} is in the range {start} to {end}.\")\n",
    "else:\n",
    "    print(f\"{number} is not in the range {start} to {end}.\")\n"
   ]
  },
  {
   "cell_type": "code",
   "execution_count": 114,
   "id": "f3e03a3b-aa50-47f5-8681-e1156c6adb0a",
   "metadata": {},
   "outputs": [],
   "source": [
    "# 63) Write a Python function to check whether a number is perfect or not."
   ]
  },
  {
   "cell_type": "code",
   "execution_count": 13,
   "id": "ceaedf52-13df-4c33-a5a8-64332765d87a",
   "metadata": {},
   "outputs": [
    {
     "name": "stdout",
     "output_type": "stream",
     "text": [
      "27 is not a perfect number.\n"
     ]
    }
   ],
   "source": [
    "def is_perfect_number(num):\n",
    "    \n",
    "    if num <= 1:\n",
    "        return False\n",
    "    \n",
    "    sum_divisors = 0\n",
    "    for i in range(1, num // 2 + 1):\n",
    "        if num % i == 0:\n",
    "            sum_divisors += i\n",
    "    \n",
    "    return sum_divisors == num\n",
    "\n",
    "number = 27\n",
    "\n",
    "if is_perfect_number(number):\n",
    "    print(f\"{number} is a perfect number.\")\n",
    "else:\n",
    "    print(f\"{number} is not a perfect number.\")\n"
   ]
  },
  {
   "cell_type": "code",
   "execution_count": 116,
   "id": "4e8fa25f-a3fb-49d4-892d-53d6f4a24243",
   "metadata": {},
   "outputs": [],
   "source": [
    "# 64) Write a Python function that checks whether a passed string is palindrome or not"
   ]
  },
  {
   "cell_type": "code",
   "execution_count": 15,
   "id": "da1d7675-3d7f-48df-8090-65c8f5f4d86f",
   "metadata": {},
   "outputs": [
    {
     "name": "stdout",
     "output_type": "stream",
     "text": [
      "\"A man a plan a canal Panama\" is a palindrome.\n"
     ]
    }
   ],
   "source": [
    "def is_palindrome(s):\n",
    "    \n",
    "    # Normalize the string by converting to lowercase and removing spaces\n",
    "    normalized_string = ''.join(s.split()).lower()\n",
    "    \n",
    "    # Compare the normalized string with its reverse\n",
    "    return normalized_string == normalized_string[::-1]\n",
    "\n",
    "# Example usage\n",
    "input_string = \"A man a plan a canal Panama\"\n",
    "\n",
    "if is_palindrome(input_string):\n",
    "    print(f'\"{input_string}\" is a palindrome.')\n",
    "else:\n",
    "    print(f'\"{input_string}\" is not a palindrome.')\n"
   ]
  },
  {
   "cell_type": "code",
   "execution_count": 118,
   "id": "9b26b347-4d07-4bd8-8da4-f60cb56a7c29",
   "metadata": {},
   "outputs": [],
   "source": [
    "# 65) How Many Basic Types of Functions Are Available in Python?"
   ]
  },
  {
   "cell_type": "code",
   "execution_count": 59,
   "id": "57f89a51-5494-474b-b55b-dcf747b5b747",
   "metadata": {},
   "outputs": [],
   "source": [
    "# anwer: Python has four basic types of functions:\n",
    "\n",
    "# Built-in Functions: Provided by Python, such as print(), len(), and type().\n",
    "\n",
    "# User-Defined Functions: Created by users using the def keyword, allowing custom functionality.\n",
    "\n",
    "# Lambda Functions: Anonymous functions defined using the lambda keyword for simple operations.\n",
    "\n",
    "# Recursive Functions: Functions that call themselves to solve problems by breaking them into smaller sub-problems.\n",
    "\n",
    "# Each type serves different purposes depending on the context of the problem being addressed."
   ]
  },
  {
   "cell_type": "code",
   "execution_count": 120,
   "id": "fa81b362-a56c-46f4-bbc3-8efafc24454c",
   "metadata": {},
   "outputs": [],
   "source": [
    "# 66) How can you pick a random item from a list or tuple?"
   ]
  },
  {
   "cell_type": "code",
   "execution_count": 19,
   "id": "c1e892f8-951a-474e-9dfc-38c1f03d691d",
   "metadata": {},
   "outputs": [
    {
     "name": "stdout",
     "output_type": "stream",
     "text": [
      "4\n",
      "c\n"
     ]
    }
   ],
   "source": [
    "# answer :To pick a random item from a list or tuple, use the random.choice() function from the random module. \n",
    "# Here's how you can do it:\n",
    "\n",
    "import random\n",
    "\n",
    "my_list = [1, 2, 3, 4, 5]\n",
    "random_item = random.choice(my_list)\n",
    "print(random_item)\n",
    "\n",
    "my_tuple = ('a', 'b', 'c')\n",
    "random_item = random.choice(my_tuple)\n",
    "print(random_item)\n"
   ]
  },
  {
   "cell_type": "code",
   "execution_count": 122,
   "id": "a2221346-2222-41c4-bca2-58e822ecaab0",
   "metadata": {},
   "outputs": [],
   "source": [
    "# 67) How can you pick a random item from a range?"
   ]
  },
  {
   "cell_type": "code",
   "execution_count": 37,
   "id": "0bbb8eb8-8469-4c71-ae5c-c885af563fc8",
   "metadata": {},
   "outputs": [
    {
     "name": "stdout",
     "output_type": "stream",
     "text": [
      "2\n"
     ]
    }
   ],
   "source": [
    "# answer : To pick a random item from a range object in Python, you can use the random.choice() function from the random module,\n",
    "#          but since range is not directly indexable like a list or tuple, you'll need to convert it to a list first.\n",
    "\n",
    "import random\n",
    "\n",
    "my_range = range(1,10)  # Example range from 1 to 9\n",
    "random_item = random.choice(list(my_range))\n",
    "print(random_item)\n"
   ]
  },
  {
   "cell_type": "code",
   "execution_count": 124,
   "id": "904b6050-f89a-4d04-87d6-b65f4efbdce6",
   "metadata": {},
   "outputs": [],
   "source": [
    "# 68) How can you get a random number in python?"
   ]
  },
  {
   "cell_type": "code",
   "execution_count": 27,
   "id": "3eba2dd7-85c0-4027-a5ec-d74d1e36717a",
   "metadata": {},
   "outputs": [
    {
     "name": "stdout",
     "output_type": "stream",
     "text": [
      "4\n"
     ]
    }
   ],
   "source": [
    "# answer : To generate a random number in Python, you can use the random module, which provides various functions for generating random numbers.\n",
    "#          Here’s how you can use it for different types of random numbers:\n",
    "\n",
    "import random\n",
    "\n",
    "# Generate a random integer between 1 and 10 (inclusive)\n",
    "random_int = random.randint(1, 10)\n",
    "print(random_int)\n"
   ]
  },
  {
   "cell_type": "code",
   "execution_count": 126,
   "id": "542e2e92-fb54-42f7-9ca2-9482a8b52cea",
   "metadata": {},
   "outputs": [],
   "source": [
    "# 69) How will you set the starting value in generating random numbers?"
   ]
  },
  {
   "cell_type": "code",
   "execution_count": 57,
   "id": "6dd9b000-2d82-41a0-8f87-2be0dd413def",
   "metadata": {},
   "outputs": [
    {
     "name": "stdout",
     "output_type": "stream",
     "text": [
      "82\n",
      "15\n",
      "4\n"
     ]
    }
   ],
   "source": [
    "import random\n",
    "\n",
    "random.seed(42)\n",
    "\n",
    "print(random.randint(1, 100))\n",
    "print(random.randint(1, 100))\n",
    "print(random.randint(1, 100))\n"
   ]
  },
  {
   "cell_type": "code",
   "execution_count": 128,
   "id": "02a28506-3587-4805-bcae-c7d974c3c936",
   "metadata": {},
   "outputs": [],
   "source": [
    "# 70) How will you randomize the items of a list in place?"
   ]
  },
  {
   "cell_type": "code",
   "execution_count": 35,
   "id": "40a2e515-c407-4d7e-9e3c-66a18498e624",
   "metadata": {},
   "outputs": [
    {
     "name": "stdout",
     "output_type": "stream",
     "text": [
      "[4, 2, 3, 5, 1]\n"
     ]
    }
   ],
   "source": [
    "import random\n",
    "\n",
    "\n",
    "my_list = [1, 2, 3, 4, 5]\n",
    "\n",
    "random.shuffle(my_list)\n",
    "\n",
    "print(my_list)\n"
   ]
  },
  {
   "cell_type": "code",
   "execution_count": 130,
   "id": "e6d709c8-884d-41bd-b934-a86ff9cb64c2",
   "metadata": {},
   "outputs": [],
   "source": [
    "# 71) What is File function in python? What are keywords to create and write file."
   ]
  },
  {
   "cell_type": "code",
   "execution_count": null,
   "id": "5671b273-824c-4a75-9e68-2dc1128f8b17",
   "metadata": {},
   "outputs": [],
   "source": [
    "# answer: In Python, the file function itself is not explicitly defined; instead, file operations are typically handled using built-in functions like \n",
    "# open(). This function allows you to create, read, write, and manipulate files.\n",
    "#    'w': Write mode. Creates a new file or truncates an existing file.\n",
    "#    'a': Append mode. Opens an existing file and appends data to it.\n",
    "#    'x': Exclusive creation mode. Fails if the file already exists.\n",
    "#    'r': Read mode. Opens a file for reading (default mode).\n",
    "#    'b': Binary mode. Can be added to any mode (e.g., 'wb' for writing in binary).\n",
    "#    't': Text mode. Default mode, can be omitted (e.g., 'wt')."
   ]
  },
  {
   "cell_type": "code",
   "execution_count": 132,
   "id": "dfca69a4-2044-4846-bd58-762e82a921ea",
   "metadata": {},
   "outputs": [],
   "source": [
    "# 72) Write a Python program to read an entire text file."
   ]
  },
  {
   "cell_type": "code",
   "execution_count": 3,
   "id": "4ba3e7fd-dbd1-4716-9f6c-dd0fd0bab661",
   "metadata": {},
   "outputs": [],
   "source": [
    "o = open('muslim.txt', 'x')"
   ]
  },
  {
   "cell_type": "code",
   "execution_count": 15,
   "id": "2b40d899-388b-4b4e-9c8d-344aa5e15ba0",
   "metadata": {},
   "outputs": [
    {
     "name": "stdout",
     "output_type": "stream",
     "text": [
      "hii how are you\n"
     ]
    }
   ],
   "source": [
    "with open(\"muslim.txt\",\"r\") as f:\n",
    "    co=f.read()\n",
    "    print(co)\n",
    "    f.close()"
   ]
  },
  {
   "cell_type": "code",
   "execution_count": 134,
   "id": "1c644a3b-e074-4dad-bf42-d061ccf8890c",
   "metadata": {},
   "outputs": [],
   "source": [
    "# 73) Write a Python program to append text to a file and display the text."
   ]
  },
  {
   "cell_type": "code",
   "execution_count": 23,
   "id": "45dddfe0-f65b-4f13-8b84-8267e11a1052",
   "metadata": {},
   "outputs": [
    {
     "name": "stdout",
     "output_type": "stream",
     "text": [
      "hii how are you Now the file has more content!\n"
     ]
    }
   ],
   "source": [
    "o = open('muslim.txt', \"a\")\n",
    "o.write(\" Now the file has more content!\")\n",
    "o.close()\n",
    "\n",
    "o = open('muslim.txt', \"r\")\n",
    "print(o.read()) \n"
   ]
  },
  {
   "cell_type": "code",
   "execution_count": 21,
   "id": "e322ad4a-5dd6-4a2b-b623-4d9023f8634d",
   "metadata": {},
   "outputs": [],
   "source": [
    "# 74) Write a Python program to read first n lines of a file."
   ]
  },
  {
   "cell_type": "code",
   "execution_count": 138,
   "id": "e28e35b7-0a93-4b13-91cc-25c37ab0bd91",
   "metadata": {},
   "outputs": [],
   "source": [
    "# 75) Write a Python program to read last n lines of a file."
   ]
  },
  {
   "cell_type": "code",
   "execution_count": 140,
   "id": "e39b007c-e920-467f-9f3b-5637bd5a837a",
   "metadata": {},
   "outputs": [],
   "source": [
    "# 76) Write a Python program to read a file line by line and store it into a list"
   ]
  },
  {
   "cell_type": "code",
   "execution_count": 142,
   "id": "c420b069-1691-49c8-b58f-0fb28ad805a8",
   "metadata": {},
   "outputs": [],
   "source": [
    "# 77) Write a Python program to read a file line by line store it into a variable."
   ]
  },
  {
   "cell_type": "code",
   "execution_count": 144,
   "id": "63292480-0c77-46e3-8739-bd1785c2c279",
   "metadata": {},
   "outputs": [],
   "source": [
    "# 78) Write a python program to find the longest words."
   ]
  },
  {
   "cell_type": "code",
   "execution_count": 146,
   "id": "511a0f7a-5d1d-4cd0-abc0-47b3000248c5",
   "metadata": {},
   "outputs": [],
   "source": [
    "# 79) Write a Python program to count the number of lines in a text file."
   ]
  },
  {
   "cell_type": "code",
   "execution_count": 148,
   "id": "52ed8bde-c278-45e1-9714-bd248c592ba0",
   "metadata": {},
   "outputs": [],
   "source": [
    "# 80) Write a Python program to count the frequency of words in a file."
   ]
  },
  {
   "cell_type": "code",
   "execution_count": 150,
   "id": "828ba201-60ae-4515-b526-1dda0eb3fb48",
   "metadata": {},
   "outputs": [],
   "source": [
    "# 81) Write a Python program to write a list to a file."
   ]
  },
  {
   "cell_type": "code",
   "execution_count": null,
   "id": "269e2ae0-4323-419d-884a-8828a682948c",
   "metadata": {},
   "outputs": [],
   "source": []
  },
  {
   "cell_type": "code",
   "execution_count": 152,
   "id": "a371e7c2-5a47-4cfc-a1c0-4086478755a1",
   "metadata": {},
   "outputs": [],
   "source": [
    "# 82) Write a Python program to copy the contents of a file to another file."
   ]
  },
  {
   "cell_type": "code",
   "execution_count": 154,
   "id": "1bdc0781-6ecc-4663-a755-9ba4ae8b5271",
   "metadata": {},
   "outputs": [],
   "source": [
    "# 83) Explain Exception handling? What is an Error in Python?"
   ]
  },
  {
   "cell_type": "code",
   "execution_count": 43,
   "id": "41fc5754-d72a-4dea-acbb-c733b4cd6ba0",
   "metadata": {},
   "outputs": [
    {
     "name": "stdout",
     "output_type": "stream",
     "text": [
      "You can't divide by zero!\n",
      "This will always execute.\n"
     ]
    }
   ],
   "source": [
    "# answer:Exception handling in Python is a mechanism for managing errors that occur during the execution of a program. Instead of the program crashing\n",
    "# when an error is encountered, exception handling allows developers to catch these errors and respond appropriately.\n",
    "#The main components of exception handling in Python are:\n",
    "try:\n",
    "    result = 10 / 0\n",
    "except ZeroDivisionError:\n",
    "    print(\"You can't divide by zero!\")\n",
    "else:\n",
    "    print(\"Division successful!\")\n",
    "finally:\n",
    "    print(\"This will always execute.\")\n"
   ]
  },
  {
   "cell_type": "code",
   "execution_count": 158,
   "id": "0e0e83ea-0e28-45dd-b79f-5d425b2ee49e",
   "metadata": {},
   "outputs": [],
   "source": [
    "# 84) How many except statements can a try-except block have? Name Some built-in exception classes:"
   ]
  },
  {
   "cell_type": "code",
   "execution_count": null,
   "id": "10cc3102-2864-4af6-8f8e-edb25d5d0b3e",
   "metadata": {},
   "outputs": [],
   "source": [
    "# answer: A `try-except` block can have multiple `except` statements to handle different exceptions. You can specify multiple `except` blocks for\n",
    "# various exception types, and you can also catch multiple exceptions in a single `except` block using tuples.\n",
    "\n",
    "# Here are some built-in exception classes in Python:\n",
    "\n",
    "# 1. **ValueError**: Raised when a function receives an argument of the right type but inappropriate value.\n",
    "# 2. **TypeError**: Raised when an operation or function is applied to an object of inappropriate type.\n",
    "# 3. **IndexError**: Raised when trying to access an element from a list using an index that is out of range.\n",
    "# 4. **KeyError**: Raised when trying to access a dictionary with a key that doesn't exist.\n",
    "# 5. **ZeroDivisionError**: Raised when trying to divide by zero.\n",
    "# 6. **FileNotFoundError**: Raised when trying to open a file that does not exist.\n",
    "# 7. **AttributeError**: Raised when an invalid attribute reference is made.\n",
    "\n",
    "# You can use as many `except` blocks as needed to handle different exceptions."
   ]
  },
  {
   "cell_type": "code",
   "execution_count": 160,
   "id": "bd258fc0-c0df-4691-a431-2206b5529f05",
   "metadata": {},
   "outputs": [],
   "source": [
    "# 85) When will the else part of try-except-else be executed?"
   ]
  },
  {
   "cell_type": "code",
   "execution_count": 45,
   "id": "7810bf67-711c-44a7-a171-d859e144caac",
   "metadata": {},
   "outputs": [
    {
     "name": "stdout",
     "output_type": "stream",
     "text": [
      "Division successful: 5.0\n",
      "Execution complete.\n"
     ]
    }
   ],
   "source": [
    "# answer: The else part of a try-except-else block will be executed only if the code in the try block does not raise any exceptions.\n",
    "try:\n",
    "    result = 10 / 2\n",
    "\n",
    "except ZeroDivisionError:\n",
    "    print(\"You can't divide by zero!\")\n",
    "else:\n",
    "    print(\"Division successful:\", result)\n",
    "finally:\n",
    "    print(\"Execution complete.\")\n"
   ]
  },
  {
   "cell_type": "code",
   "execution_count": 162,
   "id": "ee663ab7-1455-427c-8d9f-75716c935453",
   "metadata": {},
   "outputs": [],
   "source": [
    "# 86) Can one block of except statements handle multiple exception?"
   ]
  },
  {
   "cell_type": "code",
   "execution_count": 49,
   "id": "9261f758-0a6a-4ae6-84f1-8c6293f9f811",
   "metadata": {},
   "outputs": [
    {
     "name": "stdin",
     "output_type": "stream",
     "text": [
      "Enter a number:  0\n"
     ]
    },
    {
     "name": "stdout",
     "output_type": "stream",
     "text": [
      "An error occurred: division by zero\n",
      "Execution complete.\n"
     ]
    }
   ],
   "source": [
    "# answer: Yes, a single except block can handle multiple exceptions in Python. You can do this by specifying the exceptions as a tuple within\n",
    "# the except statement. This allows you to catch multiple exception types with the same handling logic.\n",
    "try:\n",
    "    \n",
    "    value = int(input(\"Enter a number: \"))\n",
    "    result = 10 / value\n",
    "except (ValueError, ZeroDivisionError) as e:\n",
    "    print(f\"An error occurred: {e}\")\n",
    "else:\n",
    "    print(\"Division successful:\", result)\n",
    "finally:\n",
    "    print(\"Execution complete.\")\n"
   ]
  },
  {
   "cell_type": "code",
   "execution_count": 164,
   "id": "102cfea1-c811-47ed-858a-cbdc9bf57c73",
   "metadata": {},
   "outputs": [],
   "source": [
    "# 87) When is the finally block executed?"
   ]
  },
  {
   "cell_type": "code",
   "execution_count": 51,
   "id": "a6ed7267-66cd-42ac-bf48-81070c38b407",
   "metadata": {},
   "outputs": [
    {
     "name": "stdout",
     "output_type": "stream",
     "text": [
      "Trying to open a file...\n",
      "File not found!\n",
      "This will always execute.\n",
      "Continuing with the rest of the program.\n"
     ]
    }
   ],
   "source": [
    "# answer: The finally block is executed after the try and except blocks, regardless of whether an exception was raised or handled. \n",
    "# This means that the finally block will run in the following scenarios:\n",
    "\n",
    "try:\n",
    "    print(\"Trying to open a file...\")\n",
    "    file = open(\"non_existent_file.txt\", \"r\")\n",
    "except FileNotFoundError:\n",
    "    print(\"File not found!\")\n",
    "finally:\n",
    "    print(\"This will always execute.\")\n",
    "\n",
    "print(\"Continuing with the rest of the program.\")\n"
   ]
  },
  {
   "cell_type": "code",
   "execution_count": 166,
   "id": "b0376438-13b1-44c8-b523-d68d62bf1367",
   "metadata": {},
   "outputs": [],
   "source": [
    "# 88) What happens when „1‟== 1 is executed?"
   ]
  },
  {
   "cell_type": "code",
   "execution_count": 53,
   "id": "73ae1cc2-af7a-475e-b5d2-e6e1bfcec815",
   "metadata": {},
   "outputs": [
    {
     "name": "stdout",
     "output_type": "stream",
     "text": [
      "False\n"
     ]
    }
   ],
   "source": [
    "# answer: When the expression '1' == 1 is executed in Python, it evaluates to False. This is because the left operand is a string ('1'), \n",
    "# while the right operand is an integer (1). Python does not automatically convert types for equality checks, so the two values are considered \n",
    "# different types and therefore not equal.\n",
    "\n",
    "result = '1' == 1\n",
    "print(result)  "
   ]
  },
  {
   "cell_type": "code",
   "execution_count": 168,
   "id": "2c21d543-3b2f-4dd6-832e-551874fbe7a3",
   "metadata": {},
   "outputs": [],
   "source": [
    "# 89) How Do You Handle Exceptions with Try/Except/Finally in Python?"
   ]
  },
  {
   "cell_type": "code",
   "execution_count": 55,
   "id": "68cdba87-0b05-4301-b1a2-b6c8691049cb",
   "metadata": {},
   "outputs": [
    {
     "name": "stdin",
     "output_type": "stream",
     "text": [
      "Enter a number:  3\n"
     ]
    },
    {
     "name": "stdout",
     "output_type": "stream",
     "text": [
      "Result: 3.3333333333333335\n",
      "Execution complete.\n"
     ]
    }
   ],
   "source": [
    "# answer: To handle exceptions in Python using try, except, and finally, you follow a structured approach that allows you to catch errors and ensure \n",
    "# that cleanup actions are performed regardless of whether an error occurs. Here's a breakdown of how to use each component:\n",
    "\n",
    "try:\n",
    "    number = int(input(\"Enter a number: \"))\n",
    "    result = 10 / number\n",
    "    print(\"Result:\", result)\n",
    "except ValueError:\n",
    "    print(\"Please enter a valid integer.\")\n",
    "except ZeroDivisionError:\n",
    "    print(\"You can't divide by zero!\")\n",
    "finally:\n",
    "    print(\"Execution complete.\")\n"
   ]
  },
  {
   "cell_type": "code",
   "execution_count": 170,
   "id": "f9fda42a-1bf2-4c73-ba26-e4f31c620ec9",
   "metadata": {},
   "outputs": [],
   "source": [
    "#     Explain with coding snippets.\n",
    "# 90) Write python program that user to enter only odd numbers, else will raise an exception."
   ]
  },
  {
   "cell_type": "code",
   "execution_count": 19,
   "id": "840fbb9c-4058-435b-a510-d3bf05bd2272",
   "metadata": {},
   "outputs": [
    {
     "name": "stdin",
     "output_type": "stream",
     "text": [
      "Please enter an odd number:  3\n"
     ]
    },
    {
     "name": "stdout",
     "output_type": "stream",
     "text": [
      "You entered an odd number: 3\n"
     ]
    }
   ],
   "source": [
    "class EvenNumberError(Exception):\n",
    "    \"\"\"Custom exception for even numbers.\"\"\"\n",
    "    pass\n",
    "\n",
    "def get_odd_number():\n",
    "    \"\"\"\n",
    "    Prompts the user to enter an odd number and raises an exception if the input is not an odd number.\n",
    "    \"\"\"\n",
    "    while True:\n",
    "        try:\n",
    "            user_input = int(input(\"Please enter an odd number: \"))\n",
    "            if user_input % 2 == 0:\n",
    "                raise EvenNumberError(\"The number is even. Please enter an odd number.\")\n",
    "            return user_input\n",
    "        except ValueError:\n",
    "            print(\"Invalid input. Please enter an integer.\")\n",
    "        except EvenNumberError as e:\n",
    "            print(e)\n",
    "\n",
    "\n",
    "odd_number = get_odd_number()\n",
    "print(f\"You entered an odd number: {odd_number}\")\n"
   ]
  },
  {
   "cell_type": "code",
   "execution_count": null,
   "id": "13cb023f-459a-4f5c-98b4-443f64cb4522",
   "metadata": {},
   "outputs": [],
   "source": []
  }
 ],
 "metadata": {
  "kernelspec": {
   "display_name": "Python 3 (ipykernel)",
   "language": "python",
   "name": "python3"
  },
  "language_info": {
   "codemirror_mode": {
    "name": "ipython",
    "version": 3
   },
   "file_extension": ".py",
   "mimetype": "text/x-python",
   "name": "python",
   "nbconvert_exporter": "python",
   "pygments_lexer": "ipython3",
   "version": "3.12.4"
  }
 },
 "nbformat": 4,
 "nbformat_minor": 5
}
