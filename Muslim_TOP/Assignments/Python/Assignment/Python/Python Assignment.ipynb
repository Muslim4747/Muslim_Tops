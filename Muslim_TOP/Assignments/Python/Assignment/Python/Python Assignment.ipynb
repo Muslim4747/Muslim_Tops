{
 "cells": [
  {
   "cell_type": "code",
   "execution_count": null,
   "id": "c2bc39c5-7c97-4f68-aa43-a6cc32033645",
   "metadata": {},
   "outputs": [],
   "source": [
    " 1). What are the types of Applications? \n",
    "     \n",
    "Applications can be categorized as:\n",
    "\n",
    "1. Web Applications: Run in a web browser (e.g., Google Docs).\n",
    "2. Mobile Applications: For smartphones and tablets (e.g., Instagram).\n",
    "3. Desktop Applications: For computers (e.g., Microsoft Word).\n",
    "4. Enterprise Applications: For business processes (e.g., Salesforce).\n",
    "5. System Software: Manages hardware and provides a platform (e.g., Windows).\n",
    "6. Embedded Applications: Integrated into devices (e.g., smart TV firmware).\n",
    "7. Utility Applications: Perform specific maintenance tasks (e.g., antivirus).\n",
    "8. Gaming Applications: For interactive entertainment (e.g., Fortnite).\n",
    "9. Educational Applications: For learning (e.g., Duolingo).\n",
    "10.Social Media Applications: For social networking (e.g., Facebook)."
   ]
  },
  {
   "cell_type": "code",
   "execution_count": null,
   "id": "86895d6b-ce13-4c1a-a790-458a11cf4b53",
   "metadata": {},
   "outputs": [],
   "source": [
    "2).  What is programing?\n",
    "\n",
    "Programming is the process of creating instructions that a computer can follow to perform specific tasks or solve problems. \n",
    "These instructions are written in a programming language, which is a set of rules and syntax that allows humans to communicate with computers."
   ]
  },
  {
   "cell_type": "code",
   "execution_count": null,
   "id": "1e30dfcf-8e48-4eac-9c3d-00d2cc3572fd",
   "metadata": {},
   "outputs": [],
   "source": [
    "3). What is Python?\n",
    "\n",
    "Python is a high-level, object-oriented, interpreted programming language that's\n",
    "used for web applications, software development, data science, and machine learning. \n",
    "It's designed to be easy and fun to use, and the name \"Python\" is a reference to the British comedy group Monty Python."
   ]
  },
  {
   "cell_type": "code",
   "execution_count": 1,
   "id": "8daed5a3-a111-4644-b2c5-7b193aa168f6",
   "metadata": {},
   "outputs": [
    {
     "name": "stdin",
     "output_type": "stream",
     "text": [
      "Enter a number:  0\n"
     ]
    },
    {
     "name": "stdout",
     "output_type": "stream",
     "text": [
      "The number is zero.\n"
     ]
    }
   ],
   "source": [
    "\"\"\"4). Write a Python program to check if a number is positive, negative or\n",
    "zero.\"\"\"\n",
    "\n",
    "# Get input from the user\n",
    "number = float(input(\"Enter a number: \"))\n",
    "\n",
    "# Check if the number is positive, negative, or zero\n",
    "if number > 0:\n",
    "    print(\"The number is positive.\")\n",
    "elif number < 0:\n",
    "    print(\"The number is negative.\")\n",
    "else:\n",
    "    print(\"The number is zero.\")"
   ]
  },
  {
   "cell_type": "code",
   "execution_count": 13,
   "id": "27797382-4c7c-430d-a39f-f83722f60a04",
   "metadata": {},
   "outputs": [
    {
     "name": "stdin",
     "output_type": "stream",
     "text": [
      "Enter a number to find its Factorial :  5\n"
     ]
    },
    {
     "name": "stdout",
     "output_type": "stream",
     "text": [
      "120\n"
     ]
    }
   ],
   "source": [
    "\"\"\"  5)Write a Python program to get the Factorial number of given numbers.\"\"\"\n",
    "\n",
    "user = int(input(\"Enter a number to find its Factorial : \"))\n",
    "fact = 1\n",
    "if user < 0 :\n",
    "    print(\"This is the negative number \")\n",
    "elif user == 0:\n",
    "    print(\"the factorial of 0 is 1 \")\n",
    "else :\n",
    "    for g in range(1, user+1):\n",
    "        fact = fact*g \n",
    "    print(fact)\n",
    "\n"
   ]
  },
  {
   "cell_type": "code",
   "execution_count": 15,
   "id": "7ee14073-b0aa-46fd-bd4b-1b29916820e8",
   "metadata": {},
   "outputs": [
    {
     "name": "stdin",
     "output_type": "stream",
     "text": [
      "Enter the range up to which you want the Fibonacci series:  5\n"
     ]
    },
    {
     "name": "stdout",
     "output_type": "stream",
     "text": [
      "Fibonacci series:\n",
      "0 1 1 2 3 5 "
     ]
    }
   ],
   "source": [
    "\"\"\" 6). Write a Python program to get the Fibonacci series of given range.\"\"\"\n",
    "\n",
    "# Get input from the user\n",
    "n = int(input(\"Enter the range up to which you want the Fibonacci series: \"))\n",
    "\n",
    "# Initialize the first two Fibonacci numbers\n",
    "a, b = 0, 1\n",
    "\n",
    "# Generate and print the Fibonacci series\n",
    "print(\"Fibonacci series:\")\n",
    "while a <= n:\n",
    "    print(a, end=' ')\n",
    "    a, b = b, a + b\n"
   ]
  },
  {
   "cell_type": "code",
   "execution_count": null,
   "id": "eb066fd2-943a-4c3c-bdf5-71f45c17afc9",
   "metadata": {},
   "outputs": [],
   "source": [
    "7). How memory is managed in Python?\n",
    "\n",
    "Python manages memory automatically through reference counting and garbage collection.\n",
    "It uses a garbage collector to clean up unused objects and employs memory pools for efficient allocation of small objects."
   ]
  },
  {
   "cell_type": "code",
   "execution_count": null,
   "id": "f43bd368-18dd-4d09-a270-83feda5fb3d8",
   "metadata": {},
   "outputs": [],
   "source": [
    "8). What is the purpose continuing statement in python? \n",
    "\n",
    "The continue is a keyword.\n",
    "It is used to end the current iteration in a for loop (or a while loop), and continues to the next iteration."
   ]
  },
  {
   "cell_type": "code",
   "execution_count": 23,
   "id": "70494a60-1455-4bb1-bbba-5a6c5b44bea6",
   "metadata": {},
   "outputs": [
    {
     "name": "stdout",
     "output_type": "stream",
     "text": [
      "value of A1 after swapping : 40\n",
      "value of A2 after swapping : 20\n"
     ]
    }
   ],
   "source": [
    "\"\"\" 9). Write python program that swap two number with temp variable\n",
    "and without temp variable. \"\"\"\n",
    "\n",
    "A1 = 20\n",
    "A2 = 40\n",
    "\n",
    "#declaring a temporary variable and swapping values\n",
    "\n",
    "B = A1\n",
    "A1 = A2\n",
    "A2 = B\n",
    "\n",
    "print(\"value of A1 after swapping :\",A1)\n",
    "print(\"value of A2 after swapping :\",A2)"
   ]
  },
  {
   "cell_type": "code",
   "execution_count": 19,
   "id": "5374d2eb-9e2d-4081-85ee-0c76d5f6a384",
   "metadata": {},
   "outputs": [
    {
     "name": "stdin",
     "output_type": "stream",
     "text": [
      "Enter a number:  -16\n"
     ]
    },
    {
     "name": "stdout",
     "output_type": "stream",
     "text": [
      "The number is even.\n"
     ]
    }
   ],
   "source": [
    "\"\"\" 10). Write a Python program to find whether a given number is even\n",
    "or odd, print out an appropriate message to the user. \"\"\" \n",
    "\n",
    "# Input from the user\n",
    "num = int(input(\"Enter a number: \"))\n",
    "\n",
    "# Check if the number is even or odd\n",
    "if num % 2 == 0:\n",
    "    print(\"The number is even.\")\n",
    "else:\n",
    "    print(\"The number is odd.\")\n"
   ]
  },
  {
   "cell_type": "code",
   "execution_count": 37,
   "id": "c0552825-52ef-4978-8695-4a5032acfa7e",
   "metadata": {},
   "outputs": [
    {
     "name": "stdin",
     "output_type": "stream",
     "text": [
      "Enter a letter:  iz\n"
     ]
    },
    {
     "name": "stdout",
     "output_type": "stream",
     "text": [
      "This letter is not a vowel but a Consonant.\n"
     ]
    }
   ],
   "source": [
    "\"\"\"11). Write a Python program to test whether a passed letter is a vowel \n",
    "or not. \"\"\"\n",
    "\n",
    "# Input from the user\n",
    "letter = input(\"Enter a letter: \").lower()  # Convert input to lowercase for uniformity\n",
    "\n",
    "# Check if the letter is a vowel\n",
    "if letter in 'aeiou':\n",
    "    print(\"This letter is a vowel.\")\n",
    "else:\n",
    "    print(\"This letter is not a vowel but a Consonant.\")"
   ]
  },
  {
   "cell_type": "code",
   "execution_count": 45,
   "id": "edfa13b4-b55e-4ce6-a5f8-b81df13f6238",
   "metadata": {},
   "outputs": [
    {
     "name": "stdin",
     "output_type": "stream",
     "text": [
      "Enter the first integer:  10\n",
      "Enter the second integer:  20\n",
      "Enter the third integer:  20\n"
     ]
    },
    {
     "name": "stdout",
     "output_type": "stream",
     "text": [
      "The Result is: 0\n"
     ]
    }
   ],
   "source": [
    "\"\"\"12). Write a Python program to sum of three given integers. However, if \n",
    "two values are equal sum will be zero. \"\"\"\n",
    "\n",
    "# Input three integers from the user\n",
    "a = int(input(\"Enter the first integer: \"))\n",
    "b = int(input(\"Enter the second integer: \"))\n",
    "c = int(input(\"Enter the third integer: \"))\n",
    "\n",
    "# Check if any two values are equal\n",
    "if a == b or b == c or a == c:\n",
    "    result = 0\n",
    "else:\n",
    "    result = a + b + c\n",
    "\n",
    "# Print the result\n",
    "print(\"The Result is:\", result)"
   ]
  },
  {
   "cell_type": "code",
   "execution_count": null,
   "id": "8ffdcf3b-e638-4806-9e67-667c15730567",
   "metadata": {},
   "outputs": [],
   "source": [
    "\"\"\" 13). Write a Python program that will return true if the two given\n",
    "integer values are equal or their sum or difference is 5. \n",
    "\n",
    "\n"
   ]
  },
  {
   "cell_type": "code",
   "execution_count": 5,
   "id": "3ef79a72",
   "metadata": {},
   "outputs": [
    {
     "name": "stdin",
     "output_type": "stream",
     "text": [
      "Enter a number:  3\n"
     ]
    },
    {
     "name": "stdout",
     "output_type": "stream",
     "text": [
      "Sum of the first 3 positive integers: 6.0\n"
     ]
    }
   ],
   "source": [
    "\"\"\"14).Write a python program to sum of the first n positive integers. \"\"\"\n",
    "\n",
    "# Prompt the user for input and convert it to an integer.\n",
    "n = int(input(\"Enter a number: \"))\n",
    "\n",
    "# Calculate the sum of the first 'n' positive integers using the formula.\n",
    "sum_num = (n * (n + 1)) / 2\n",
    "\n",
    "# Print the result, indicating the sum of the first 'n' positive integers.\n",
    "print(\"Sum of the first\", n, \"positive integers:\", sum_num)"
   ]
  },
  {
   "cell_type": "code",
   "execution_count": 11,
   "id": "52d685c9-0203-41f4-b304-cd3f6be0971c",
   "metadata": {},
   "outputs": [
    {
     "name": "stdout",
     "output_type": "stream",
     "text": [
      "13\n"
     ]
    }
   ],
   "source": [
    "\"\"\"15)Write a Python program to calculate the length of a string\"\"\"\n",
    "\n",
    "## Python code to demonstrate string length \n",
    "string=\"Fahima Ansari\"\n",
    "\n",
    "# using len\n",
    "print(len(string))"
   ]
  },
  {
   "cell_type": "code",
   "execution_count": 25,
   "id": "85bd0785-2fde-4cb9-ab8f-654c38a72e3a",
   "metadata": {},
   "outputs": [
    {
     "name": "stdin",
     "output_type": "stream",
     "text": [
      "Enter a String ansari fahima banu\n"
     ]
    },
    {
     "name": "stdout",
     "output_type": "stream",
     "text": [
      "a:5,n:2,s:1,a:5,r:1,i:2, :2,f:1,a:5,h:1,i:2,m:1,a:5, :2,b:1,a:5,n:2,u:1,"
     ]
    }
   ],
   "source": [
    "\"\"\"16) Write a Python program to count the number of characters\n",
    "(character frequency) in a string\"\"\"\n",
    "\n",
    "a=(input(\"Enter a String\"))\n",
    "for b in a:\n",
    "   frequency = a.count(b)\n",
    "   print(str(b) + \":\" + str(frequency), end=\",\")"
   ]
  },
  {
   "cell_type": "code",
   "execution_count": null,
   "id": "a7fc0eef-f60b-4a14-8639-d41605f30f33",
   "metadata": {},
   "outputs": [],
   "source": [
    "# 17)What are negative indexes and why are they used? \n",
    "\"\"\" Negative indexes in Python are a powerful feature that allows us to access elements in a list from the end instead of the beginning. \n",
    "This can be particularly useful when dealing with large lists or when we need to access the last few elements without knowing their exact position.\"\"\""
   ]
  },
  {
   "cell_type": "code",
   "execution_count": 1,
   "id": "17e637c5-fa7c-4518-8f44-b97fc5826281",
   "metadata": {},
   "outputs": [
    {
     "name": "stdout",
     "output_type": "stream",
     "text": [
      "\n",
      "4\n"
     ]
    }
   ],
   "source": [
    "# 18).Write a Python program to count occurrences of a substring in a string.\n",
    "\n",
    "# Define a string 'str1' with a sentence.\n",
    "str1 = \"Write a Python program to count occurrences of a substring in a string.\"\n",
    "\n",
    "# Print an empty line for spacing.\n",
    "print()\n",
    "\n",
    "# Count and print the number of occurrences of the substring  in the string 'str1'.\n",
    "print(str1.count(\"a\"))\n"
   ]
  },
  {
   "cell_type": "code",
   "execution_count": 107,
   "id": "3eb97683-e556-4ef2-bf72-c201ae51c46b",
   "metadata": {},
   "outputs": [
    {
     "name": "stdin",
     "output_type": "stream",
     "text": [
      "Enter the main string:  asasAAAAA\n",
      "Enter the substring to count:  a\n"
     ]
    },
    {
     "name": "stdout",
     "output_type": "stream",
     "text": [
      "a : 7\n"
     ]
    }
   ],
   "source": [
    "# Input strings from the user\n",
    "string = input(\"Enter the main string: \")\n",
    "# Convert the string to lowercase to ensure case-insensitive counting\n",
    "string = string.lower()\n",
    "substring = input(\"Enter the substring to count: \")\n",
    "\n",
    "# Count occurrences of the substring\n",
    "occurrences = string.count(substring)\n",
    "\n",
    "# Output the result\n",
    "print((substring) + \" : \" +str(occurrences))"
   ]
  },
  {
   "cell_type": "code",
   "execution_count": 123,
   "id": "b81e5007-3cc2-42b7-b611-c0dea6bfaa6b",
   "metadata": {},
   "outputs": [
    {
     "name": "stdin",
     "output_type": "stream",
     "text": [
      "Enter a sentence:  Her name is jhon smith . He is a good man . he is a 20 Years old.he is from canada .\n"
     ]
    },
    {
     "name": "stdout",
     "output_type": "stream",
     "text": [
      "her : 1\n",
      "name : 1\n",
      "is : 4\n",
      "jhon : 1\n",
      "smith : 1\n",
      ". : 3\n",
      "he : 2\n",
      "a : 2\n",
      "good : 1\n",
      "man : 1\n",
      "20 : 1\n",
      "years : 1\n",
      "old.he : 1\n",
      "from : 1\n",
      "canada : 1\n"
     ]
    }
   ],
   "source": [
    "# 19).Write a Python program to count the occurrences of each word in a given sentence.  \n",
    "\n",
    "# Input sentence from the user\n",
    "sentence = input(\"Enter a sentence: \")\n",
    "\n",
    "# Convert the sentence to lowercase to ensure case-insensitive counting\n",
    "sentence = sentence.lower()\n",
    "\n",
    "# Split the sentence into words\n",
    "words = sentence.split()\n",
    "\n",
    "# Initialize an empty dictionary to store word counts\n",
    "emd= {}\n",
    "\n",
    "# Count occurrences of each word\n",
    "for word in words:\n",
    "    if word in emd:\n",
    "        emd[word] += 1\n",
    "    else:\n",
    "        emd[word] = 1\n",
    "\n",
    "# Print the result\n",
    "for word, count in emd.items():\n",
    "    print( (word)  ,\":\",(count))"
   ]
  },
  {
   "cell_type": "code",
   "execution_count": null,
   "id": "be3f8a66-ecb1-4263-bedc-58ab4fbc92d7",
   "metadata": {},
   "outputs": [],
   "source": [
    "# 20). Write a Python program to get a single string from two given strings, separated by a space and swap the first two characters of each string.\n",
    "\n",
    "\n"
   ]
  },
  {
   "cell_type": "code",
   "execution_count": 139,
   "id": "ce36f32a-83ef-4193-bc45-ffb3012606d7",
   "metadata": {},
   "outputs": [
    {
     "name": "stdin",
     "output_type": "stream",
     "text": [
      "Enter a string:  ing\n"
     ]
    },
    {
     "name": "stdout",
     "output_type": "stream",
     "text": [
      "Result of string: ingly\n"
     ]
    }
   ],
   "source": [
    "\"\"\" 21). Write a Python program to add 'in' at the end of a given string (length\n",
    "should be at least 3). If the given string already ends with 'ing' then\n",
    "add 'ly' instead if the string length of the given string is less than 3,\n",
    "leave it unchanged. \"\"\"\n",
    "\n",
    "# Input the string from the user\n",
    "string = input(\"Enter a string: \")\n",
    "# Check the length of the string\n",
    "if len(string) < 3:\n",
    "    result = string\n",
    "elif string.endswith(\"ing\"):\n",
    "    result = string + \"ly\"\n",
    "else:\n",
    "    result = string + \"in\"\n",
    "# Output the result\n",
    "print(\"Result of string:\", result)"
   ]
  },
  {
   "cell_type": "code",
   "execution_count": 145,
   "id": "eb2b56a7-56b4-4872-9d19-e1fa1041f0f7",
   "metadata": {},
   "outputs": [
    {
     "name": "stdin",
     "output_type": "stream",
     "text": [
      "Enter a string: fahima\n"
     ]
    },
    {
     "name": "stdout",
     "output_type": "stream",
     "text": [
      "Reverse string: amihaf\n"
     ]
    }
   ],
   "source": [
    "# 22).Write a Python function to reverses a string if its length is a multiple of 4. \n",
    "\n",
    "# Input string from the user\n",
    "string = input(\"Enter a string:\")\n",
    "\n",
    "# Reverse the string using slicing\n",
    "reverse= string[::-1]\n",
    "\n",
    "# Output the result\n",
    "print(\"Reverse string:\", reverse)"
   ]
  },
  {
   "cell_type": "code",
   "execution_count": 5,
   "id": "43298caf-f633-4c18-ad5f-4b41b2b68fc3",
   "metadata": {},
   "outputs": [
    {
     "name": "stdin",
     "output_type": "stream",
     "text": [
      "Enter a string:  a\n"
     ]
    },
    {
     "name": "stdout",
     "output_type": "stream",
     "text": [
      "\n"
     ]
    }
   ],
   "source": [
    "\"\"\"23) Write a Python program to get a string made of the first 2 and the last \n",
    "2 chars from a given a string. If the string length is less than 2, return \n",
    "instead of the empty string. \"\"\"\n",
    "\n",
    "# Input string\n",
    "s = input(\"Enter a string: \")\n",
    "\n",
    "# Check if the string length is less than 2\n",
    "if len(s) < 2:\n",
    "    result = \"\"\n",
    "else:\n",
    "    # Get the first 2 characters\n",
    "    first_2 = s[:2]\n",
    "    \n",
    "    # Get the last 2 characters\n",
    "    last_2 = s[-2:]\n",
    "    \n",
    "    # Concatenate them\n",
    "    result = first_2 + last_2\n",
    "\n",
    "# Print the result\n",
    "print(result)\n"
   ]
  },
  {
   "cell_type": "code",
   "execution_count": 7,
   "id": "b8e4ebc6-7325-4955-adcd-ebb4ee9a0e78",
   "metadata": {},
   "outputs": [
    {
     "name": "stdin",
     "output_type": "stream",
     "text": [
      "Enter the base string:  fahima\n",
      "Enter the string to insert:  AA\n"
     ]
    },
    {
     "name": "stdout",
     "output_type": "stream",
     "text": [
      "Resulting string: fahAAima\n"
     ]
    }
   ],
   "source": [
    "\"\"\"24)Write a Python function to insert a string in the middle of a string. \"\"\"\n",
    "\n",
    "# Get input from the user\n",
    "base_string = input(\"Enter the base string: \")\n",
    "insert_string = input(\"Enter the string to insert: \")\n",
    "\n",
    "# Calculate the middle index of the base string\n",
    "middle_index = len(base_string) // 2\n",
    "\n",
    "# Create the new string by inserting the insert_string in the middle\n",
    "new_string = base_string[:middle_index] + insert_string + base_string[middle_index:]\n",
    "\n",
    "# Print the result\n",
    "print(\"Resulting string:\", new_string)\n"
   ]
  },
  {
   "cell_type": "code",
   "execution_count": null,
   "id": "2b852bb7-e696-47f5-87af-e5a30de862c8",
   "metadata": {},
   "outputs": [],
   "source": [
    "\"\"\"25)What is List? How will you reverse a list? \n",
    "\n",
    "A list in Python is a built-in data structure that allows you to store a collection of items in a single variable. \n",
    "Lists can hold items of different types, including integers, strings, other lists, and more. \n",
    "Lists are ordered, mutable, and can contain duplicate elements.\n",
    "\n",
    "---> How to Reverse a List in Python\n",
    "There are multiple ways to reverse a list in Python. Here are three common methods:"
   ]
  },
  {
   "cell_type": "code",
   "execution_count": 11,
   "id": "7abf48bf-efea-45b8-9fe2-426e15c0242d",
   "metadata": {},
   "outputs": [
    {
     "name": "stdout",
     "output_type": "stream",
     "text": [
      "[5, 4, 3, 2, 1]\n"
     ]
    }
   ],
   "source": [
    "#---> Using the reverse() Method\n",
    "\n",
    "my_list1 = [1, 2, 3, 4, 5]\n",
    "my_list1.reverse()\n",
    "print(my_list1) "
   ]
  },
  {
   "cell_type": "code",
   "execution_count": 13,
   "id": "56862fef-bdac-43f4-9bf2-0076cdc7b152",
   "metadata": {},
   "outputs": [
    {
     "name": "stdout",
     "output_type": "stream",
     "text": [
      "[5, 4, 3, 2, 1]\n"
     ]
    }
   ],
   "source": [
    "#---> Using Slicing\n",
    "\n",
    "my_list2 = [1, 2, 3, 4, 5]\n",
    "reversed_list = my_list2[::-1]\n",
    "print(reversed_list)  "
   ]
  },
  {
   "cell_type": "code",
   "execution_count": 15,
   "id": "24244f20-e1e0-41a4-b93f-740851e9cc80",
   "metadata": {},
   "outputs": [
    {
     "name": "stdout",
     "output_type": "stream",
     "text": [
      "[5, 4, 3, 2, 1]\n"
     ]
    }
   ],
   "source": [
    "#---> Using the reversed() Function\n",
    "\n",
    "my_list3 = [1, 2, 3, 4, 5]\n",
    "reversed_list = list(reversed(my_list3))\n",
    "print(reversed_list) "
   ]
  },
  {
   "cell_type": "code",
   "execution_count": 23,
   "id": "094b6668-008f-49e2-8701-10f866c62b00",
   "metadata": {},
   "outputs": [
    {
     "name": "stdout",
     "output_type": "stream",
     "text": [
      "using pop :  [1, 2, 3, 4]\n",
      "using del :  [1, 2, 3, 4]\n"
     ]
    }
   ],
   "source": [
    "\"\"\" 26)How will you remove last object from a list? \"\"\"\n",
    "#---> Using the pop() Method\n",
    "\n",
    "my_list = [1, 2, 3, 4, 5]\n",
    "my_list.pop()  # Removes and returns the last item (5)\n",
    "print(\"using pop : \", my_list) \n",
    "\n",
    "#---> Using del\n",
    "\n",
    "my_list = [1, 2, 3, 4, 5]\n",
    "del my_list[-1]  # Removes the item at index -1 (the last item)\n",
    "print(\"using del : \",my_list)  \n"
   ]
  },
  {
   "cell_type": "code",
   "execution_count": 27,
   "id": "070c7bf2-5ae8-4811-a545-385b9d695979",
   "metadata": {},
   "outputs": [
    {
     "name": "stdout",
     "output_type": "stream",
     "text": [
      "25\n"
     ]
    }
   ],
   "source": [
    "\"\"\"27)Suppose list1 is [2, 33, 222, 14, and 25], what is list1 [-1]? \"\"\"\n",
    "\n",
    "list = [2, 33, 222, 14, 25]\n",
    "print(list[-1]) \n"
   ]
  },
  {
   "cell_type": "code",
   "execution_count": 78,
   "id": "2e257d8f-8662-4367-a0ca-c0f45c11a46a",
   "metadata": {},
   "outputs": [
    {
     "name": "stdout",
     "output_type": "stream",
     "text": [
      "[1, 2, 3]\n",
      "[1, 2, 3, 4]\n",
      "[1, 2, 3, 4, [5, 6]]\n",
      "[1, 2, 3, 4, [5, 6], 7, 8]\n",
      "[1, 2, 3, 4, [5, 6], 7, 8, 'f', 'a', 'h', 'i', 'm', 'a']\n"
     ]
    }
   ],
   "source": [
    "\"\"\"28)Differentiate between append () and extend () methods? \"\"\"\n",
    "\n",
    "#Choose append() when you need to add a single item to the list and extend() when you want to concatenate the elements of another iterable to the list.\n",
    "#Adds a single item to the end of the list.\n",
    "list=[1,2,3]\n",
    "print(list)\n",
    "\n",
    "list.append(4)\n",
    "print(list)\n",
    "\n",
    "list.append([5,6])\n",
    "print(list)\n",
    "\n",
    "#Extends the list by appending elements from an iterable (e.g., another list, tuple, or string) to the end of the list.\n",
    "list.extend([7,8])\n",
    "print(list)\n",
    "\n",
    "list.extend(\"fahima\")\n",
    "print(list)\n",
    "\n"
   ]
  },
  {
   "cell_type": "code",
   "execution_count": 65,
   "id": "0cd7ab81-9d2e-405d-bee1-68fa8e1238ea",
   "metadata": {},
   "outputs": [
    {
     "name": "stdout",
     "output_type": "stream",
     "text": [
      "Largest number: 9\n",
      "Smallest number: 1\n",
      "Sum of all numbers: 25\n"
     ]
    }
   ],
   "source": [
    "\"\"\"29) Write a Python function to get the largest number, smallest num \n",
    "and sum of all from a list. \"\"\"\n",
    "\n",
    "def list29(numbers):\n",
    "    if not numbers:  # Check if the list is empty\n",
    "        return None, None, 0\n",
    "    \n",
    "    largest = max(numbers)\n",
    "    smallest = min(numbers)\n",
    "    total_sum = sum(numbers)\n",
    "    \n",
    "    return largest, smallest, total_sum\n",
    "\n",
    "\n",
    "numbers = [5, 1, 9, 3, 7]\n",
    "largest, smallest, total_sum = list29(numbers)\n",
    "print(\"Largest number:\", largest)      \n",
    "print(\"Smallest number:\", smallest)   \n",
    "print(\"Sum of all numbers:\", total_sum)  \n"
   ]
  },
  {
   "cell_type": "code",
   "execution_count": 80,
   "id": "269fe196-d905-4336-8436-b4b0dc735eb5",
   "metadata": {},
   "outputs": [
    {
     "name": "stdout",
     "output_type": "stream",
     "text": [
      "True\n",
      "False\n"
     ]
    }
   ],
   "source": [
    "\"\"\"30)How will you compare two lists?\"\"\"\n",
    "\n",
    "#Equality Comparison\n",
    "list1 = [1, 2, 3, 4]\n",
    "list2 = [1, 2, 3, 4]\n",
    "list3 = [4, 3, 2, 1]\n",
    "\n",
    "print(list1 == list2)   #  (lists are equal)\n",
    "print(list1 == list3)  #  (lists are not equal)\n"
   ]
  },
  {
   "cell_type": "code",
   "execution_count": 84,
   "id": "5d6df364-e32a-4960-a05d-2946dc1883a0",
   "metadata": {},
   "outputs": [
    {
     "name": "stdout",
     "output_type": "stream",
     "text": [
      "Number of strings where the length is 2 or more and the first and last characters are the same: 3\n"
     ]
    }
   ],
   "source": [
    "\"\"\"31) Write a Python program to count the number of strings where the string \n",
    "length is 2 or more and the first and last character are same from a given list \n",
    "of strings. \"\"\"\n",
    "\n",
    "# List of strings to be checked\n",
    "string_list = [\"hello\", \"level\", \"world\", \"abcba\", \"noon\", \"a\", \"ab\"]\n",
    "count = 0\n",
    "\n",
    "for s in string_list:\n",
    "    # Check if the string length is 2 or more and if the first and last characters are the same\n",
    "    if len(s) >= 2 and s[0] == s[-1]:\n",
    "        count += 1\n",
    "\n",
    "# Print the result\n",
    "print(\"Number of strings where the length is 2 or more and the first and last characters are the same:\", count)\n"
   ]
  },
  {
   "cell_type": "code",
   "execution_count": 61,
   "id": "e907d5b2-0f0c-4fa7-a2c7-655be3e84cce",
   "metadata": {},
   "outputs": [
    {
     "name": "stdin",
     "output_type": "stream",
     "text": [
      "enter the numbre of eliment 5\n",
      "enter element 2\n",
      "enter element 3\n",
      "enter element 4\n",
      "enter element 2\n",
      "enter element 3\n"
     ]
    },
    {
     "name": "stdout",
     "output_type": "stream",
     "text": [
      "my list : ['2', '3', '4', '2', '3']\n",
      "non_duplicate_value\n"
     ]
    }
   ],
   "source": [
    "\"\"\"32)Write a Python program to remove duplicates from a list. \"\"\"\n",
    "\n",
    "\n",
    "\n"
   ]
  },
  {
   "cell_type": "code",
   "execution_count": 169,
   "id": "fcbab903-3abd-4a8a-af2f-9cad57905311",
   "metadata": {},
   "outputs": [
    {
     "name": "stdin",
     "output_type": "stream",
     "text": [
      "Enter elements of the list :  \n"
     ]
    },
    {
     "name": "stdout",
     "output_type": "stream",
     "text": [
      "The list is empty.\n"
     ]
    }
   ],
   "source": [
    "\"\"\"33)Write a Python program to check a list is empty or not. \"\"\"\n",
    "\n",
    "# Take user input for the list\n",
    "user_input = input(\"Enter elements of the list : \")\n",
    "\n",
    "# Check if the list is empty\n",
    "if not user_input:\n",
    "    print(\"The list is empty.\")\n",
    "else:\n",
    "    print(\"The list is not empty.\")\n"
   ]
  },
  {
   "cell_type": "code",
   "execution_count": 54,
   "id": "f6b495e6-e25c-484a-8b70-1ea85bb2374e",
   "metadata": {},
   "outputs": [
    {
     "name": "stdin",
     "output_type": "stream",
     "text": [
      "Enter elements of the first list :  1 2\n",
      "Enter elements of the second list :  1\n"
     ]
    },
    {
     "name": "stdout",
     "output_type": "stream",
     "text": [
      "True.\n",
      "Flse.\n",
      "Flse.\n"
     ]
    }
   ],
   "source": [
    "\"\"\"34).Write a Python function that takes two lists and returns true if they \n",
    "have at least one common member. \"\"\"\n",
    "\n",
    "# Take user input for the first list\n",
    "input1 = input(\"Enter elements of the first list : \")\n",
    "list1 = input1.split()\n",
    "\n",
    "# Take user input for the second list\n",
    "input2 = input(\"Enter elements of the second list : \")\n",
    "list2 = input2.split()\n",
    "\n",
    "# Check if the lists have any common members\n",
    "for x in (input1):\n",
    "    for y in (input2):\n",
    "        if (x==y):\n",
    "            print(\"True.\")\n",
    "        else:\n",
    "            print(\"Flse.\")\n",
    "        \n"
   ]
  },
  {
   "cell_type": "code",
   "execution_count": 22,
   "id": "8e62ff5d-c311-4fcc-8e92-cd07dd007809",
   "metadata": {},
   "outputs": [
    {
     "name": "stdout",
     "output_type": "stream",
     "text": [
      "First 5 elements squares: [1, 4, 9, 16, 25]\n",
      "Last 5 elements squares: [676, 729, 784, 841, 900]\n"
     ]
    }
   ],
   "source": [
    "\"\"\"35) Write a Python program to generate and print a list of first and last 5 \n",
    "elements where the values are square of numbers between 1 and 30. \"\"\"\n",
    "\n",
    "def printValues():\n",
    "    l = list()\n",
    "    for i in range(1, 31): \n",
    "        l.append(i**2)\n",
    "    print(\"First 5 elements squares:\", l[:5])  \n",
    "    print(\"Last 5 elements squares:\",l[-5:])\n",
    "\n",
    "printValues()\n"
   ]
  },
  {
   "cell_type": "code",
   "execution_count": 32,
   "id": "db48c40c-27f3-4c87-a447-87be922bea41",
   "metadata": {},
   "outputs": [
    {
     "name": "stdin",
     "output_type": "stream",
     "text": [
      "Enter the Element :  123123\n"
     ]
    },
    {
     "name": "stdout",
     "output_type": "stream",
     "text": [
      "unique elements is :  {'3', '1', '2'}\n"
     ]
    }
   ],
   "source": [
    "\"\"\"36) Write a Python function that takes a list and returns a new list with \n",
    "unique elements of the first list.\"\"\" \n",
    "\n",
    "a= input(\"Enter the Element : \")\n",
    "unique = set(a)\n",
    "print(\"unique elements is : \", unique)"
   ]
  },
  {
   "cell_type": "code",
   "execution_count": 68,
   "id": "eacf8590-a03e-4158-8181-e80a24339dc8",
   "metadata": {},
   "outputs": [
    {
     "name": "stdout",
     "output_type": "stream",
     "text": [
      "Hello welcome to the tops.\n"
     ]
    }
   ],
   "source": [
    "\"\"\"37)Write a Python program to convert a list of characters into a string. \"\"\"\n",
    "\n",
    "\n",
    "# Example list of characters\n",
    "list = ['H', 'e', 'l', 'l', 'o',' ', 'w','e','l','c','o','m','e',' ','t','o',' ','t','h','e',' ','t','o','p','s.']\n",
    "\n",
    "# Convert the list of characters to a string\n",
    "resulting_string = ''.join(list)\n",
    "\n",
    "# Print the resulting string\n",
    "print(resulting_string)  \n"
   ]
  },
  {
   "cell_type": "code",
   "execution_count": 72,
   "id": "91ad18c0-cc5f-461b-9b0e-a806c9e555ed",
   "metadata": {},
   "outputs": [
    {
     "name": "stdout",
     "output_type": "stream",
     "text": [
      "apple\n"
     ]
    }
   ],
   "source": [
    "\"\"\"38)Write a Python program to select an item randomly from a list.\"\"\"\n",
    "\n",
    "import random\n",
    "\n",
    "# Example list\n",
    "items = ['apple', 'banana', 'cherry', 'date', 'elderberry']\n",
    "\n",
    "# Select a random item from the list\n",
    "random_item = random.choice(items)\n",
    "\n",
    "# Print the randomly selected item\n",
    "print(random_item)\n"
   ]
  },
  {
   "cell_type": "code",
   "execution_count": 74,
   "id": "98aeb980-c60a-4c7b-8398-d758ebeeb48d",
   "metadata": {},
   "outputs": [
    {
     "name": "stdout",
     "output_type": "stream",
     "text": [
      "The second smallest number is: 3\n"
     ]
    }
   ],
   "source": [
    "\"\"\"39) Write a Python program to find the second smallest number in a list. \"\"\"\n",
    "\n",
    "# Example list\n",
    "numbers = [7, 5, 3, 9, 2]\n",
    "\n",
    "# Sort the list\n",
    "sorted_numbers = sorted(numbers)\n",
    "\n",
    "# Get the second smallest number\n",
    "second_smallest = sorted_numbers[1]\n",
    "\n",
    "# Print the second smallest number\n",
    "print(\"The second smallest number is:\", second_smallest)\n"
   ]
  },
  {
   "cell_type": "code",
   "execution_count": 110,
   "id": "825be19a-42fe-4887-b4a1-71a60bd7cc49",
   "metadata": {},
   "outputs": [
    {
     "name": "stdout",
     "output_type": "stream",
     "text": [
      "Unique values: [1, 2, 3, 4, 5, 6]\n"
     ]
    }
   ],
   "source": [
    "\"\"\"40)Write a Python program to get unique values from a list \"\"\"\n",
    "\n",
    "\n",
    "# Example list with possible duplicate values\n",
    "numbers = [1, 2, 2, 3, 4, 4, 5, 5, 6]\n",
    "\n",
    "# Convert the list to a set to remove duplicates\n",
    "unique_numbers = list(set(numbers))  # Ensure 'list' has not been redefined\n",
    "\n",
    "# Print the unique values\n",
    "print(\"Unique values:\", unique_numbers)\n",
    "\n"
   ]
  },
  {
   "cell_type": "code",
   "execution_count": null,
   "id": "1464f15b-3ea3-4119-8a58-b9c751db6bcf",
   "metadata": {},
   "outputs": [],
   "source": [
    "\"\"\"41)Write a Python program to check whether a list contains a sub list .\"\"\"\n"
   ]
  },
  {
   "cell_type": "code",
   "execution_count": 112,
   "id": "ced15786-b454-42a9-9652-1e5e2935d44e",
   "metadata": {},
   "outputs": [
    {
     "name": "stdout",
     "output_type": "stream",
     "text": [
      "a: 1\n",
      "b: 2\n",
      "c: 3\n"
     ]
    }
   ],
   "source": [
    "\"\"\"42)Write a Python program to split a list into different variables. \"\"\"\n",
    "\n",
    "my_list = [1, 2, 3]\n",
    "\n",
    "# Unpack the list into variables\n",
    "a, b, c = my_list\n",
    "\n",
    "# Print the variables\n",
    "print(\"a:\", a)\n",
    "print(\"b:\", b)\n",
    "print(\"c:\", c)\n"
   ]
  },
  {
   "cell_type": "code",
   "execution_count": 3,
   "id": "cd781677-64bb-4f9e-a1fc-8e36920e5318",
   "metadata": {},
   "outputs": [
    {
     "name": "stdout",
     "output_type": "stream",
     "text": [
      "\n"
     ]
    }
   ],
   "source": [
    "\"\"\"43)What is tuple? Difference between list and tuple.\n",
    "\n",
    "A tuple is a collection of elements that are ordered and can contain different types of data. \n",
    "Tuples are similar to lists, but they are immutable, meaning they cannot be changed after they are created.\n",
    "---> The key difference between tuples and lists is that while tuples are immutable objects, lists are mutable. \n",
    "     This means tuples cannot be changed while lists can be modified. Tuples are also more memory efficient than the lists.\"\"\"\n"
   ]
  },
  {
   "cell_type": "code",
   "execution_count": 5,
   "id": "b6e7c810-87ec-45c4-b725-0a920d890e3f",
   "metadata": {},
   "outputs": [
    {
     "name": "stdout",
     "output_type": "stream",
     "text": [
      "The tuple contains: (42, 'hello', 3.14, True, None)\n"
     ]
    }
   ],
   "source": [
    "\"\"\"44)Write a Python program to create a tuple with different data types. \"\"\"\n",
    "\n",
    "# Create a tuple with different data types\n",
    "tuple = (42, \"hello\", 3.14, True, None)\n",
    "\n",
    "# Print the tuple\n",
    "print(\"The tuple contains:\", tuple)"
   ]
  },
  {
   "cell_type": "code",
   "execution_count": 17,
   "id": "ac87b00b-372b-4c10-b106-41db01be0016",
   "metadata": {},
   "outputs": [
    {
     "name": "stdout",
     "output_type": "stream",
     "text": [
      "List 1: (1, 2, 3)\n",
      "List 2: ('a', 'b', 'c')\n",
      "List 3: (3.5, 4.5, 5.5)\n"
     ]
    }
   ],
   "source": [
    "\"\"\"45)Write a Python program to unzip a list of tuples into individual lists.\"\"\"\n",
    "\n",
    "# List of tuples \n",
    "tuples = [(1, 'a', 3.5), (2, 'b', 4.5), (3, 'c', 5.5)]\n",
    "\n",
    "# Unzip the list of tuples\n",
    "unzipped_lists = list(zip(*tuples))  # list(zip(*tuples)) iterable of tuples, which is then converted to a list of lists.\n",
    "\n",
    "# Convert the result to individual lists\n",
    "list1, list2, list3 = unzipped_lists\n",
    "\n",
    "# Print\n",
    "print(\"List 1:\", list1)\n",
    "print(\"List 2:\", list2)\n",
    "print(\"List 3:\", list3)\n"
   ]
  },
  {
   "cell_type": "code",
   "execution_count": 21,
   "id": "7354a8e6-f44f-46c6-9ca3-c3f0efb2dc26",
   "metadata": {},
   "outputs": [
    {
     "name": "stdout",
     "output_type": "stream",
     "text": [
      "The dictionary is: {'Name': 'Fahima', 'Age': 20, 'City': 'Ahmedabad'}\n"
     ]
    }
   ],
   "source": [
    "\"\"\"46)Write a Python program to convert a list of tuples into a dictionary. \"\"\"\n",
    "\n",
    "# List of tuples \n",
    "list_of_tuples = [('Name', 'Fahima'), ('Age', 20), ('City', 'Ahmedabad')]\n",
    "\n",
    "# Convert list of tuples into a dictionary\n",
    "dictionary = dict(list_of_tuples)\n",
    "\n",
    "# Print converted dictionary\n",
    "print(\"The dictionary is:\", dictionary)\n"
   ]
  },
  {
   "cell_type": "code",
   "execution_count": 23,
   "id": "72345549-d780-4708-aa00-b9f330b943f2",
   "metadata": {},
   "outputs": [
    {
     "name": "stdout",
     "output_type": "stream",
     "text": [
      "The dictionary is: {'Name': 'Fahima', 'Age': 20, 'City': 'Ahmedabad'}\n"
     ]
    }
   ],
   "source": [
    "\"\"\"47)How will you create a dictionary using tuples in python?\"\"\"\n",
    "\n",
    "#---> Tuples as Key-Value Pairs:\n",
    "\n",
    "#with key-value pairs\n",
    "list_of_tuples = [('Name', 'Fahima'), ('Age', 20), ('City', 'Ahmedabad')]\n",
    "\n",
    "# Convert list of tuples into a dictionary\n",
    "dictionary = dict(list_of_tuples)\n",
    "\n",
    "# Print converted dictionary\n",
    "print(\"The dictionary is:\", dictionary)"
   ]
  },
  {
   "cell_type": "code",
   "execution_count": 25,
   "id": "ab9a371b-9607-4478-8327-f648748d2e16",
   "metadata": {},
   "outputs": [
    {
     "name": "stdout",
     "output_type": "stream",
     "text": [
      "Dictionary: {'name': 'Ayesha', 'age': 30, 'city': 'Jaipur'}\n"
     ]
    }
   ],
   "source": [
    "#--->Tuples as Keys with Values in Another Collection \n",
    "\n",
    "# Tuples for keys and values\n",
    "keys = ('name', 'age', 'city')\n",
    "values = ('Ayesha', 30, 'Jaipur')\n",
    "\n",
    "# Create dictionary using zip\n",
    "dictionary = dict(zip(keys, values))\n",
    "\n",
    "# Print the dictionary\n",
    "print(\"Dictionary:\", dictionary)\n"
   ]
  },
  {
   "cell_type": "code",
   "execution_count": 29,
   "id": "13f2a123-ec00-46a3-a41a-b6d1b83e665d",
   "metadata": {},
   "outputs": [
    {
     "name": "stdout",
     "output_type": "stream",
     "text": [
      "Original Dictionary: {'apple': 4, 'banana': 2, 'cherry': 7, 'date': 3}\n",
      "Sorted Dictionary (Ascending): {'banana': 2, 'date': 3, 'apple': 4, 'cherry': 7}\n",
      "Sorted Dictionary (Descending): {'cherry': 7, 'apple': 4, 'date': 3, 'banana': 2}\n"
     ]
    }
   ],
   "source": [
    "\"\"\"48)Write a Python script to sort (ascending and descending) a dictionary by value.\"\"\"\n",
    "\n",
    "# dictionary\n",
    "my_dict = {\n",
    "    'apple': 4, \n",
    "    'banana': 2, \n",
    "    'cherry': 7,\n",
    "    'date': 3\n",
    "}\n",
    "\n",
    "# Sort dictionary in ascending order\n",
    "sorted_dict_asc = dict(sorted(my_dict.items(), key=lambda item: item[1]))\n",
    "\n",
    "# Sort dictionary in descending order\n",
    "sorted_dict_desc = dict(sorted(my_dict.items(), key=lambda item: item[1], reverse=True))\n",
    "\n",
    "# Print sorted dictionaries\n",
    "print(\"Original Dictionary:\", my_dict)\n",
    "print(\"Sorted Dictionary (Ascending):\", sorted_dict_asc)\n",
    "print(\"Sorted Dictionary (Descending):\", sorted_dict_desc)\n",
    "\n"
   ]
  },
  {
   "cell_type": "code",
   "execution_count": 65,
   "id": "f22554de-2126-4758-a703-55d1ce2b0eca",
   "metadata": {},
   "outputs": [
    {
     "name": "stdout",
     "output_type": "stream",
     "text": [
      "--->1st Method\n",
      "dict1 : {'a': 1, 'b': 2}\n",
      "dict2 : {'c': 3, 'd': 4}\n",
      "dict3: {'e': 5, 'f': 6}\n",
      "dict4 is new dictionary : {'a': 1, 'b': 2, 'c': 3, 'd': 4, 'e': 5, 'f': 6}\n",
      "\n",
      "--->2nd Method\n",
      "Merged Dictionary: {'a': 1, 'b': 2, 'c': 3, 'd': 4, 'e': 5, 'f': 6}\n"
     ]
    }
   ],
   "source": [
    "\"\"\"49)Write a Python script to concatenate following dictionaries to create a new one.\"\"\"\n",
    "\n",
    "print(\"--->1st Method\")\n",
    "# dictionaries \n",
    "dict1 = {'a': 1, 'b': 2}\n",
    "dict2 = {'c': 3, 'd': 4}\n",
    "dict3 = {'e': 5, 'f': 6}\n",
    "dict4 = {}\n",
    "\n",
    "print(\"dict1 :\",dict1)\n",
    "print(\"dict2 :\",dict2)\n",
    "print(\"dict3:\",dict3)\n",
    "\n",
    "for ab in (dict1, dict2, dict3):\n",
    "    dict4.update(ab)\n",
    "\n",
    "print(\"dict4 is new dictionary :\",dict4)\n",
    "\n",
    "print(\"\")\n",
    "print(\"--->2nd Method\")\n",
    "# Concatenate dictionaries\n",
    "# Using dictionary unpacking\n",
    "merged_dict = {**dict1 , **dict2 ,**dict3}\n",
    "\n",
    "# Print \n",
    "print(\"Merged Dictionary:\", merged_dict)"
   ]
  },
  {
   "cell_type": "code",
   "execution_count": 75,
   "id": "57939b55-822a-4e9a-ac8a-00cc0e183564",
   "metadata": {},
   "outputs": [
    {
     "name": "stdin",
     "output_type": "stream",
     "text": [
      "enter the value Name\n"
     ]
    },
    {
     "name": "stdout",
     "output_type": "stream",
     "text": [
      "key is present in the dictionary\n"
     ]
    }
   ],
   "source": [
    "\"\"\"50)Write a Python script to check if a given key already exists in a dictionary.\"\"\"\n",
    "\n",
    "dict50 = {'Name', 'Fahima',\n",
    "          'Age', 20, \n",
    "          'City', \n",
    "          'Ahmedabad'}\n",
    "def is_key_present(x):\n",
    "    if x in dict50:\n",
    "        print(\"key is present in the dictionary\")\n",
    "    else:\n",
    "        print(\"key is not preset in the dictionary\")\n",
    "\n",
    "is_key_present(input(\"enter the value\"))"
   ]
  },
  {
   "cell_type": "code",
   "execution_count": 91,
   "id": "46965d9a-6b41-4cfc-b3d2-c5e6e217d8b9",
   "metadata": {},
   "outputs": [
    {
     "name": "stdout",
     "output_type": "stream",
     "text": [
      "Key: name, Value: Alisha\n",
      "Key: age, Value: 13\n",
      "Key: city, Value: New Delhi\n"
     ]
    }
   ],
   "source": [
    "\"\"\"51)How Do You Traverse Through a Dictionary Object in Python? \"\"\"\n",
    "\n",
    "# dictionary\n",
    "my_dict = {'name': 'Alisha', 'age': 13, 'city': 'New Delhi'}\n",
    "\n",
    "# Traverse key-value pairs using the items() method\n",
    "for key, value in my_dict.items():\n",
    "    print(f\"Key: {key}, Value: {value}\")\n"
   ]
  },
  {
   "cell_type": "code",
   "execution_count": 19,
   "id": "0762739d-6234-47ea-a9cf-00a389b067f6",
   "metadata": {},
   "outputs": [
    {
     "name": "stdin",
     "output_type": "stream",
     "text": [
      "Enter a key: name\n"
     ]
    },
    {
     "name": "stdout",
     "output_type": "stream",
     "text": [
      "This key is Present.\n"
     ]
    }
   ],
   "source": [
    "\"\"\"52)How Do You Check the Presence of a Key in A Dictionary? \"\"\"\n",
    "\n",
    "# Define a dictionary\n",
    "my_dict = {'name': 'fenil', 'age': 30, 'city': 'New York'}\n",
    "\n",
    "# Key to check\n",
    "key_to_check = input(\"Enter a key:\")\n",
    "\n",
    "# Check if the key exists using a for loop\n",
    "\n",
    "if key in my_dict:\n",
    "    print(\"This key is Present.\")\n",
    "else:\n",
    "    print(\"This key is not Present\")\n"
   ]
  },
  {
   "cell_type": "code",
   "execution_count": 25,
   "id": "2caef390-5b2a-47c4-8b18-427913bb1e31",
   "metadata": {},
   "outputs": [
    {
     "name": "stdout",
     "output_type": "stream",
     "text": [
      "{1: 1, 2: 2, 3: 3, 4: 4, 5: 5, 6: 6, 7: 7, 8: 8, 9: 9, 10: 10, 11: 11, 12: 12, 13: 13, 14: 14, 15: 15}\n"
     ]
    }
   ],
   "source": [
    "\"\"\"53)Write a Python script to print a dictionary where the keys are \n",
    "numbers between 1 and 15. \"\"\"\n",
    "\n",
    "# Create a dictionary with keys from 1 to 15 \n",
    "my_dict = {i: i for i in range(1, 16)}\n",
    "\n",
    "# Print the dictionary\n",
    "print(my_dict)\n"
   ]
  },
  {
   "cell_type": "code",
   "execution_count": 29,
   "id": "9eb8be18-0ef0-4747-84be-712b6e8d41b7",
   "metadata": {},
   "outputs": [
    {
     "name": "stdout",
     "output_type": "stream",
     "text": [
      "{'Name': True, 'Age': True, 'City': True, 'Gender': False}\n"
     ]
    }
   ],
   "source": [
    "\"\"\"54)Write a Python program to check multiple keys exists in a dictionary \"\"\"\n",
    "\n",
    "my_dict = {\n",
    "    'Name': 'Heny',\n",
    "    'Age': 20,\n",
    "    'Contact': 123456,\n",
    "    'profession': 'Engineer',\n",
    "    'City': 'Ahmedabad',}\n",
    "\n",
    "# List of keys to check\n",
    "keys_to_check = ['Name', 'Age','City','Gender' ]\n",
    "\n",
    "#Check if all keys are present in the dictionary\n",
    "def check_keys_existence(dictionary, keys):\n",
    "    return {key: key in dictionary for key in keys}\n",
    "\n",
    "results = check_keys_existence(my_dict, keys_to_check)\n",
    "print(results)\n"
   ]
  },
  {
   "cell_type": "code",
   "execution_count": 41,
   "id": "c8dad1f4-a549-4b57-96b1-f1740da9fdeb",
   "metadata": {},
   "outputs": [
    {
     "name": "stdout",
     "output_type": "stream",
     "text": [
      "--->1st Method\n",
      "{'a': 1, 'b': 2, 'c': 3, 'd': 4}\n",
      "--->2nd Method\n",
      "{'a': 1, 'b': 2, 'c': 3, 'd': 4}\n"
     ]
    }
   ],
   "source": [
    "\"\"\"55)Write a Python script to merge two Python dictionaries \"\"\"\n",
    "\n",
    "# Define two dictionaries\n",
    "dict1 = {'a': 1, 'b': 2}\n",
    "dict2 = {'c': 3, 'd': 4}\n",
    "\n",
    "# Merge dictionaries\n",
    "print(\"--->1st Method\")\n",
    "merged_dict = dict1 | dict2\n",
    "print(merged_dict)\n",
    "\n",
    "print(\"--->2nd Method\")\n",
    "dict1.update(dict2)\n",
    "print(dict1)\n"
   ]
  },
  {
   "cell_type": "code",
   "execution_count": 43,
   "id": "df5832d4-3c70-480e-b410-7ac131a0d060",
   "metadata": {},
   "outputs": [
    {
     "name": "stdout",
     "output_type": "stream",
     "text": [
      "Counter {'a': 400, 'b': 400, 'c': 300, 'd': 400}\n"
     ]
    }
   ],
   "source": [
    "\"\"\"56)Write a Python program to map two lists into a dictionary \n",
    "Sample output: Counter ({'a': 400, 'b': 400,’d’: 400, 'c': 300}).\"\"\"\n",
    "\n",
    "#  two lists\n",
    "keys = ['a', 'b', 'c', 'd']\n",
    "values = [400, 400, 300, 400]\n",
    "\n",
    "# Map the two lists into a dictionary\n",
    "my_dict = dict(zip(keys, values))\n",
    "\n",
    "# Print \n",
    "print(\"Counter\", my_dict)\n"
   ]
  },
  {
   "cell_type": "code",
   "execution_count": 49,
   "id": "03d38b68-a064-4ec3-8749-6502569ea051",
   "metadata": {},
   "outputs": [
    {
     "name": "stdout",
     "output_type": "stream",
     "text": [
      "Highest 3 values: [600, 500, 400]\n"
     ]
    }
   ],
   "source": [
    "\"\"\"57)Write a Python program to find the highest 3 values in a dictionary.\"\"\"\n",
    "\n",
    "import heapq\n",
    "\n",
    "#  dictionary\n",
    "my_dict = {'a': 400, 'b': 150, 'c': 600, 'd': 200, 'e': 500, 'f': 100}\n",
    "\n",
    "# Find the highest 3 values using heapq.nlargest\n",
    "highest_3_values = heapq.nlargest(3, my_dict.values())\n",
    "\n",
    "# Print \n",
    "print(\"Highest 3 values:\", highest_3_values)\n",
    "\n"
   ]
  },
  {
   "cell_type": "code",
   "execution_count": null,
   "id": "06277330-80f5-4afd-a244-17d87e7b9a04",
   "metadata": {},
   "outputs": [],
   "source": [
    "\"\"\" 58)Write a Python program to combine values in python list of dictionaries. \n",
    "Sample data: [{'item': 'item1', 'amount': 400}, {'item': 'item2', 'amount': \n",
    "300}, o {'item': 'item1', 'amount': 750}] \n",
    "Expected Output:\n",
    "• Counter ({'item1': 1150, 'item2': 300}) \"\"\"\n",
    "\n"
   ]
  },
  {
   "cell_type": "code",
   "execution_count": 59,
   "id": "90b31b2e-061f-4b40-b071-f227c1e1fe2d",
   "metadata": {},
   "outputs": [
    {
     "name": "stdout",
     "output_type": "stream",
     "text": [
      "{'h': 1, 'e': 1, 'l': 3, 'o': 2, ' ': 1, 'w': 1, 'r': 1, 'd': 1}\n"
     ]
    }
   ],
   "source": [
    "\"\"\"59)Write a Python program to create a dictionary from a string. \n",
    "Note: Track the count of the letters from the string. \"\"\"\n",
    "\n",
    "# Define the input string\n",
    "input_string = \"hello world\"\n",
    "\n",
    "# empty dictionary to store letter counts\n",
    "letter_count = {}\n",
    "\n",
    "# Iterate through each character in the string\n",
    "for char in input_string:\n",
    "        if char in letter_count:\n",
    "            letter_count[char] += 1\n",
    "        else:\n",
    "            letter_count[char] = 1\n",
    "\n",
    "# Print \n",
    "print(letter_count)\n"
   ]
  },
  {
   "cell_type": "code",
   "execution_count": 65,
   "id": "b56a1281-5761-426b-916e-e8f7dd45d2b4",
   "metadata": {},
   "outputs": [
    {
     "name": "stdout",
     "output_type": "stream",
     "text": [
      "{'w': 1, '3': 1, 'r': 2, 'e': 2, 's': 1, 'o': 1, 'u': 1, 'c': 1}\n"
     ]
    }
   ],
   "source": [
    "\"\"\"60)Sample string:\n",
    " 'w3resource' Expected output:\n",
    "• {'3': 1,’s’: 1, 'r': 2, 'u': 1, 'w': 1, 'c': 1, 'e': 2, 'o': 1}\"\"\"\n",
    "\n",
    "# input string\n",
    "input_string = 'w3resource'\n",
    "\n",
    "#empty dictionary to store character counts\n",
    "char_count = {}\n",
    "\n",
    "# Iterate through each character in the string\n",
    "for char in input_string:\n",
    "    # Increment the count for the character\n",
    "    if char in char_count:\n",
    "        char_count[char] += 1\n",
    "    else:\n",
    "        char_count[char] = 1\n",
    "\n",
    "# Print \n",
    "print(char_count)\n"
   ]
  },
  {
   "cell_type": "code",
   "execution_count": 81,
   "id": "a90e6097-d9c4-45c7-b65b-8493c54ceb28",
   "metadata": {},
   "outputs": [
    {
     "name": "stdin",
     "output_type": "stream",
     "text": [
      "enter the numbre 6\n"
     ]
    },
    {
     "name": "stdout",
     "output_type": "stream",
     "text": [
      "The factorial of 6 is 720\n"
     ]
    }
   ],
   "source": [
    "\"\"\"61)Write a Python function to calculate the factorial of a number (a \n",
    "nonnegative integer) \"\"\"\n",
    "\n",
    "def factorial_iterative(n):\n",
    "    if n < 0:\n",
    "        raise ValueError(\"Factorial is not defined for negative numbers\")\n",
    "    result = 1  # factorial of 0 is 1\n",
    "    for i in range(2, n + 1):\n",
    "        result *= i\n",
    "    return result\n",
    "\n",
    "number = int(input(\"enter the numbre\"))\n",
    "print(f\"The factorial of {number} is {factorial_iterative(number)}\")"
   ]
  },
  {
   "cell_type": "code",
   "execution_count": 83,
   "id": "1df3ab27-548a-421c-9255-311c1e938b77",
   "metadata": {},
   "outputs": [
    {
     "name": "stdout",
     "output_type": "stream",
     "text": [
      "True\n",
      "False\n",
      "True\n",
      "False\n"
     ]
    }
   ],
   "source": [
    "\"\"\"62)Write a Python function to check whether a number is in a given range.\"\"\"\n",
    "\n",
    "def is_in_range(number, start, end):\n",
    "    return start <= number <= end\n",
    "\n",
    "# Example usage:\n",
    "print(is_in_range(5, 1, 10))  \n",
    "print(is_in_range(15, 1, 10)) \n",
    "print(is_in_range(10, 1, 10)) \n",
    "print(is_in_range(0, 1, 10))  "
   ]
  },
  {
   "cell_type": "code",
   "execution_count": 43,
   "id": "d2dc647e-58c0-425e-9036-8a2c137286b8",
   "metadata": {},
   "outputs": [
    {
     "name": "stdin",
     "output_type": "stream",
     "text": [
      "Enter a number : 28\n"
     ]
    },
    {
     "name": "stdout",
     "output_type": "stream",
     "text": [
      "28 is a perfect number.\n"
     ]
    }
   ],
   "source": [
    "\"\"\"63)Write a Python function to check whether a number is perfect or not. \"\"\"\n",
    "\n",
    "def is_perfect_number(num):\n",
    "   \n",
    "    if num <= 1:\n",
    "        return False\n",
    "    \n",
    "    # Find the sum of all proper divisors\n",
    "    sum_divisors = 0\n",
    "    for i in range(1, num // 2 + 1):\n",
    "        if num % i == 0:\n",
    "            sum_divisors += i\n",
    "    \n",
    "    return sum_divisors == num\n",
    "\n",
    "number = int(input(\"Enter a number :\"))\n",
    "\n",
    "if is_perfect_number(number):\n",
    "    print(f\"{number} is a perfect number.\")\n",
    "else:\n",
    "    print(f\"{number} is not a perfect number.\")\n"
   ]
  },
  {
   "cell_type": "code",
   "execution_count": 47,
   "id": "91f0114c-ef2c-4192-b328-b062919c38c3",
   "metadata": {},
   "outputs": [
    {
     "name": "stdin",
     "output_type": "stream",
     "text": [
      "Enter a string:  madam\n"
     ]
    },
    {
     "name": "stdout",
     "output_type": "stream",
     "text": [
      "The string is a palindrome!\n"
     ]
    }
   ],
   "source": [
    "\"\"\"64) Write a Python function that checks whether a passed string is \n",
    "palindrome or not.\"\"\"\n",
    "\n",
    "def is_palindrome(string):\n",
    "    cleaned_string = string.replace(\" \", \"\").lower()\n",
    "    # Check  string is the same when reversed\n",
    "    return cleaned_string == cleaned_string[::-1]\n",
    "\n",
    "# Get input\n",
    "user_input = input(\"Enter a string: \")\n",
    "\n",
    "# Check if the input is a palindrome and print the result\n",
    "if is_palindrome(user_input):\n",
    "    print(\"The string is a palindrome!\")\n",
    "else:\n",
    "    print(\"The string is not a palindrome.\")\n"
   ]
  },
  {
   "cell_type": "code",
   "execution_count": null,
   "id": "cd899950-3371-4103-8046-53a91f467b35",
   "metadata": {},
   "outputs": [],
   "source": [
    "\"\"\"65)How Many Basic Types of Functions Are Available in Python?\"\"\"\n",
    "\n",
    "#--> There are two basic types of functions in Python:\n",
    "\n",
    "#-- Built-in functions: Functions that are provided by Python, such as print(), len(), type(), etc.\n",
    "#-- User-defined functions: Functions that are created by users using the def keyword.\n",
    "#  These are the two primary categories of functions in Python."
   ]
  },
  {
   "cell_type": "code",
   "execution_count": 49,
   "id": "3261ecf7-b08d-4def-a5c4-52d58fb1ee25",
   "metadata": {},
   "outputs": [
    {
     "name": "stdout",
     "output_type": "stream",
     "text": [
      "5\n"
     ]
    }
   ],
   "source": [
    "\"\"\"66)How can you pick a random item from a list or tuple?\"\"\"\n",
    "\n",
    "#You can pick a random item from a list or tuple using the random.choice() function from the random module.\n",
    "\n",
    "import random\n",
    "\n",
    "my_list = [1, 2, 3, 4, 5]\n",
    "random_item = random.choice(my_list)\n",
    "print(random_item)\n"
   ]
  },
  {
   "cell_type": "code",
   "execution_count": 53,
   "id": "6948c6e5-48d6-4d7e-949e-f1a837e3a60c",
   "metadata": {},
   "outputs": [
    {
     "name": "stdout",
     "output_type": "stream",
     "text": [
      "8\n"
     ]
    }
   ],
   "source": [
    "\"\"\"67)How can you pick a random item from a range?\"\"\"\n",
    "\n",
    "#You can pick a random item from a range using the random.randrange() function from the random module.\n",
    "import random\n",
    "random_item = random.randrange(5, 10)  \n",
    "print(random_item)\n"
   ]
  },
  {
   "cell_type": "code",
   "execution_count": 61,
   "id": "6014e6b1-e687-44f2-8349-b2059103b3a4",
   "metadata": {},
   "outputs": [
    {
     "name": "stdout",
     "output_type": "stream",
     "text": [
      "7\n"
     ]
    }
   ],
   "source": [
    "\"\"\"68)How can you get a random number in python?\"\"\"\n",
    "\n",
    "import random\n",
    "print(random.randint(1, 10)) "
   ]
  },
  {
   "cell_type": "code",
   "execution_count": null,
   "id": "c0b10b42-db7a-4292-b7e5-fe814b05fdc4",
   "metadata": {},
   "outputs": [],
   "source": [
    "\"\"\"69)How will you set the starting value in generating random numbers?\"\"\"\n",
    "\n"
   ]
  },
  {
   "cell_type": "code",
   "execution_count": null,
   "id": "ee9f9eb8-e3db-4ae4-9c26-fc8bd55f9e36",
   "metadata": {},
   "outputs": [],
   "source": [
    "\"\"\"70) How will you randomize the items of a list in place? \"\"\""
   ]
  },
  {
   "cell_type": "code",
   "execution_count": null,
   "id": "b5fab40d-3141-42ab-86e2-81ff19d6ba4e",
   "metadata": {},
   "outputs": [],
   "source": [
    "\"\"\"71)What is File function in python? What are keywords to create \n",
    "and write file.\"\"\"\n",
    "\n",
    "# In Python, the file function is used to create a file object. However, it's more common to use the built-in open() function to work with files. \n",
    "#This function allows you to open a file, read from it, write to it, and perform other file operations.\n",
    "\n",
    "\"\"\" Keywords to Create and Write a File:\n",
    "Opening a File:\n",
    "--> Use the open() function with the appropriate mode:\n",
    "'w': Write mode (creates a new file or truncates an existing file).\n",
    "'a': Append mode (writes data to the end of the file without truncating it).\n",
    "'x': Exclusive creation mode (fails if the file already exists).\n",
    "--> Writing to a File:\n",
    "\n",
    "Use the write() method to write strings to the file.\n",
    "Use the writelines() method to write a list of strings.\"\"\""
   ]
  },
  {
   "cell_type": "code",
   "execution_count": null,
   "id": "77576d82-34bf-4e3c-8055-de3e35da3068",
   "metadata": {},
   "outputs": [],
   "source": [
    "\"\"\"72)Write a Python program to read an entire text file.\"\"\""
   ]
  },
  {
   "cell_type": "code",
   "execution_count": null,
   "id": "0dfd0c61-e915-4d41-a448-c8c48edfaf33",
   "metadata": {},
   "outputs": [],
   "source": [
    "\"\"\""
   ]
  },
  {
   "cell_type": "code",
   "execution_count": null,
   "id": "beb82841-06a7-4649-b463-e60da52ecc87",
   "metadata": {},
   "outputs": [],
   "source": []
  }
 ],
 "metadata": {
  "kernelspec": {
   "display_name": "Python 3 (ipykernel)",
   "language": "python",
   "name": "python3"
  },
  "language_info": {
   "codemirror_mode": {
    "name": "ipython",
    "version": 3
   },
   "file_extension": ".py",
   "mimetype": "text/x-python",
   "name": "python",
   "nbconvert_exporter": "python",
   "pygments_lexer": "ipython3",
   "version": "3.12.4"
  }
 },
 "nbformat": 4,
 "nbformat_minor": 5
}
